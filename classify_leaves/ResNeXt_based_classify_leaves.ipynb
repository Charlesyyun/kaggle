{
 "cells": [
  {
   "cell_type": "markdown",
   "metadata": {
    "id": "ijYSEHmOf-62"
   },
   "source": [
    "## **基于ResNeXt的树叶分类课程竞赛**"
   ]
  },
  {
   "cell_type": "code",
   "execution_count": 1,
   "metadata": {
    "colab": {
     "base_uri": "https://localhost:8080/"
    },
    "id": "Pul3LlE3fc8z",
    "outputId": "d9d73696-7971-4536-ecb0-876ab5f9fb71"
   },
   "outputs": [],
   "source": [
    "# !pip install torchcontrib \n",
    "# # 对优化器使用SWA"
   ]
  },
  {
   "cell_type": "code",
   "execution_count": 2,
   "metadata": {
    "colab": {
     "base_uri": "https://localhost:8080/"
    },
    "id": "qfK41HSVfACF",
    "outputId": "385b4baa-3020-4592-b4dc-f68e6af6ce04"
   },
   "outputs": [
    {
     "name": "stdout",
     "output_type": "stream",
     "text": [
      "Collecting git+https://github.com/ildoonet/cutmix\n",
      "  Cloning https://github.com/ildoonet/cutmix to c:\\users\\coin.lab\\appdata\\local\\temp\\pip-req-build-p3qiyl16\n",
      "Requirement already satisfied (use --upgrade to upgrade): cutmix==0.1 from git+https://github.com/ildoonet/cutmix in c:\\users\\coin.lab\\anaconda3\\lib\\site-packages\n",
      "Building wheels for collected packages: cutmix\n",
      "  Building wheel for cutmix (setup.py): started\n",
      "  Building wheel for cutmix (setup.py): finished with status 'done'\n",
      "  Created wheel for cutmix: filename=cutmix-0.1-cp37-none-any.whl size=3642 sha256=f797baaa2877a815921027126cdec93672b35c5994cb9b6df9c8ab6ee00f89f0\n",
      "  Stored in directory: C:\\Users\\coin.lab\\AppData\\Local\\Temp\\pip-ephem-wheel-cache-wiv6a_u1\\wheels\\8a\\40\\20\\615302921d0fef73e55b17b5dd57169d4879dfe6dd7ad8ff50\n",
      "Successfully built cutmix\n"
     ]
    },
    {
     "name": "stderr",
     "output_type": "stream",
     "text": [
      "  Running command git clone -q https://github.com/ildoonet/cutmix 'C:\\Users\\coin.lab\\AppData\\Local\\Temp\\pip-req-build-p3qiyl16'\n"
     ]
    }
   ],
   "source": [
    "!pip install git+https://github.com/ildoonet/cutmix \n",
    "# 安装CutMix"
   ]
  },
  {
   "cell_type": "code",
   "execution_count": 3,
   "metadata": {
    "colab": {
     "base_uri": "https://localhost:8080/"
    },
    "id": "BKct5uTcgFhY",
    "outputId": "1e9278fd-ba2a-4e1e-988e-8d61b2a42e60"
   },
   "outputs": [
    {
     "name": "stdout",
     "output_type": "stream",
     "text": [
      "Requirement already satisfied: ttach in c:\\users\\coin.lab\\anaconda3\\lib\\site-packages (0.0.3)\n"
     ]
    }
   ],
   "source": [
    "!pip install ttach \n",
    "# Test-time Augmentation"
   ]
  },
  {
   "cell_type": "code",
   "execution_count": 4,
   "metadata": {
    "id": "5GrL5NlBgoal"
   },
   "outputs": [],
   "source": [
    "# 导入各种包\n",
    "import torch\n",
    "import torch.nn as nn\n",
    "from torch.nn import functional as F\n",
    "import ttach as tta\n",
    "from torchcontrib.optim import SWA\n",
    "\n",
    "from cutmix.cutmix import CutMix\n",
    "from cutmix.utils import CutMixCrossEntropyLoss\n",
    "\n",
    "import pandas as pd\n",
    "import numpy as np\n",
    "from torch.utils.data import Dataset, DataLoader, TensorDataset\n",
    "from torchvision import transforms\n",
    "from torch.optim.lr_scheduler import CosineAnnealingLR\n",
    "from sklearn.model_selection import KFold\n",
    "from PIL import Image\n",
    "import os\n",
    "import matplotlib.pyplot as plt\n",
    "import torchvision.models as models\n",
    "# This is for the progress bar.\n",
    "from tqdm import tqdm\n"
   ]
  },
  {
   "cell_type": "markdown",
   "metadata": {
    "id": "vLBrZv8rh6lE"
   },
   "source": [
    "### **整理数据集**"
   ]
  },
  {
   "cell_type": "markdown",
   "metadata": {
    "id": "zuLp3H0lCpHr"
   },
   "source": [
    "### **数据读取与预处理**"
   ]
  },
  {
   "cell_type": "code",
   "execution_count": 5,
   "metadata": {
    "colab": {
     "base_uri": "https://localhost:8080/",
     "height": 204
    },
    "id": "yIRBT3qRClaZ",
    "outputId": "332fa0be-8d3b-4f82-fc01-dd0bbf7fcb06"
   },
   "outputs": [
    {
     "data": {
      "text/html": [
       "<div>\n",
       "<style scoped>\n",
       "    .dataframe tbody tr th:only-of-type {\n",
       "        vertical-align: middle;\n",
       "    }\n",
       "\n",
       "    .dataframe tbody tr th {\n",
       "        vertical-align: top;\n",
       "    }\n",
       "\n",
       "    .dataframe thead th {\n",
       "        text-align: right;\n",
       "    }\n",
       "</style>\n",
       "<table border=\"1\" class=\"dataframe\">\n",
       "  <thead>\n",
       "    <tr style=\"text-align: right;\">\n",
       "      <th></th>\n",
       "      <th>image</th>\n",
       "      <th>label</th>\n",
       "    </tr>\n",
       "  </thead>\n",
       "  <tbody>\n",
       "    <tr>\n",
       "      <td>0</td>\n",
       "      <td>images/0.jpg</td>\n",
       "      <td>maclura_pomifera</td>\n",
       "    </tr>\n",
       "    <tr>\n",
       "      <td>1</td>\n",
       "      <td>images/1.jpg</td>\n",
       "      <td>maclura_pomifera</td>\n",
       "    </tr>\n",
       "    <tr>\n",
       "      <td>2</td>\n",
       "      <td>images/2.jpg</td>\n",
       "      <td>maclura_pomifera</td>\n",
       "    </tr>\n",
       "    <tr>\n",
       "      <td>3</td>\n",
       "      <td>images/3.jpg</td>\n",
       "      <td>maclura_pomifera</td>\n",
       "    </tr>\n",
       "    <tr>\n",
       "      <td>4</td>\n",
       "      <td>images/4.jpg</td>\n",
       "      <td>maclura_pomifera</td>\n",
       "    </tr>\n",
       "  </tbody>\n",
       "</table>\n",
       "</div>"
      ],
      "text/plain": [
       "          image             label\n",
       "0  images/0.jpg  maclura_pomifera\n",
       "1  images/1.jpg  maclura_pomifera\n",
       "2  images/2.jpg  maclura_pomifera\n",
       "3  images/3.jpg  maclura_pomifera\n",
       "4  images/4.jpg  maclura_pomifera"
      ]
     },
     "execution_count": 5,
     "metadata": {},
     "output_type": "execute_result"
    }
   ],
   "source": [
    "# 看看label文件长啥样\n",
    "labels_dataframe = pd.read_csv('../content/competitions/classify-leaves/train.csv')\n",
    "labels_dataframe.head(5)"
   ]
  },
  {
   "cell_type": "code",
   "execution_count": 6,
   "metadata": {
    "colab": {
     "base_uri": "https://localhost:8080/"
    },
    "id": "cVaLR5JiC_-o",
    "outputId": "7cbf9fed-b8f0-41f3-b579-84e1717b92ad"
   },
   "outputs": [
    {
     "name": "stdout",
     "output_type": "stream",
     "text": [
      "176\n"
     ]
    },
    {
     "data": {
      "text/plain": [
       "['abies_concolor',\n",
       " 'abies_nordmanniana',\n",
       " 'acer_campestre',\n",
       " 'acer_ginnala',\n",
       " 'acer_griseum',\n",
       " 'acer_negundo',\n",
       " 'acer_palmatum',\n",
       " 'acer_pensylvanicum',\n",
       " 'acer_platanoides',\n",
       " 'acer_pseudoplatanus']"
      ]
     },
     "execution_count": 6,
     "metadata": {},
     "output_type": "execute_result"
    }
   ],
   "source": [
    "# 把label文件排个序\n",
    "leaves_labels = sorted(list(set(labels_dataframe['label'])))\n",
    "n_classes = len(leaves_labels)\n",
    "print(n_classes)\n",
    "leaves_labels[:10]"
   ]
  },
  {
   "cell_type": "code",
   "execution_count": 7,
   "metadata": {
    "colab": {
     "base_uri": "https://localhost:8080/"
    },
    "id": "tI2nHDzaDHfM",
    "outputId": "538a011a-ca95-4523-903b-b12bf769e205"
   },
   "outputs": [
    {
     "data": {
      "text/plain": [
       "{'abies_concolor': 0,\n",
       " 'abies_nordmanniana': 1,\n",
       " 'acer_campestre': 2,\n",
       " 'acer_ginnala': 3,\n",
       " 'acer_griseum': 4,\n",
       " 'acer_negundo': 5,\n",
       " 'acer_palmatum': 6,\n",
       " 'acer_pensylvanicum': 7,\n",
       " 'acer_platanoides': 8,\n",
       " 'acer_pseudoplatanus': 9,\n",
       " 'acer_rubrum': 10,\n",
       " 'acer_saccharinum': 11,\n",
       " 'acer_saccharum': 12,\n",
       " 'aesculus_flava': 13,\n",
       " 'aesculus_glabra': 14,\n",
       " 'aesculus_hippocastamon': 15,\n",
       " 'aesculus_pavi': 16,\n",
       " 'ailanthus_altissima': 17,\n",
       " 'albizia_julibrissin': 18,\n",
       " 'amelanchier_arborea': 19,\n",
       " 'amelanchier_canadensis': 20,\n",
       " 'amelanchier_laevis': 21,\n",
       " 'asimina_triloba': 22,\n",
       " 'betula_alleghaniensis': 23,\n",
       " 'betula_jacqemontii': 24,\n",
       " 'betula_lenta': 25,\n",
       " 'betula_nigra': 26,\n",
       " 'betula_populifolia': 27,\n",
       " 'broussonettia_papyrifera': 28,\n",
       " 'carpinus_betulus': 29,\n",
       " 'carpinus_caroliniana': 30,\n",
       " 'carya_cordiformis': 31,\n",
       " 'carya_glabra': 32,\n",
       " 'carya_ovata': 33,\n",
       " 'carya_tomentosa': 34,\n",
       " 'castanea_dentata': 35,\n",
       " 'catalpa_bignonioides': 36,\n",
       " 'catalpa_speciosa': 37,\n",
       " 'cedrus_atlantica': 38,\n",
       " 'cedrus_deodara': 39,\n",
       " 'cedrus_libani': 40,\n",
       " 'celtis_occidentalis': 41,\n",
       " 'celtis_tenuifolia': 42,\n",
       " 'cercidiphyllum_japonicum': 43,\n",
       " 'cercis_canadensis': 44,\n",
       " 'chamaecyparis_pisifera': 45,\n",
       " 'chamaecyparis_thyoides': 46,\n",
       " 'chionanthus_retusus': 47,\n",
       " 'chionanthus_virginicus': 48,\n",
       " 'cladrastis_lutea': 49,\n",
       " 'cornus_florida': 50,\n",
       " 'cornus_kousa': 51,\n",
       " 'cornus_mas': 52,\n",
       " 'crataegus_crus-galli': 53,\n",
       " 'crataegus_laevigata': 54,\n",
       " 'crataegus_phaenopyrum': 55,\n",
       " 'crataegus_pruinosa': 56,\n",
       " 'crataegus_viridis': 57,\n",
       " 'cryptomeria_japonica': 58,\n",
       " 'diospyros_virginiana': 59,\n",
       " 'eucommia_ulmoides': 60,\n",
       " 'evodia_daniellii': 61,\n",
       " 'fagus_grandifolia': 62,\n",
       " 'ficus_carica': 63,\n",
       " 'fraxinus_nigra': 64,\n",
       " 'fraxinus_pennsylvanica': 65,\n",
       " 'ginkgo_biloba': 66,\n",
       " 'gleditsia_triacanthos': 67,\n",
       " 'gymnocladus_dioicus': 68,\n",
       " 'halesia_tetraptera': 69,\n",
       " 'ilex_opaca': 70,\n",
       " 'juglans_cinerea': 71,\n",
       " 'juglans_nigra': 72,\n",
       " 'juniperus_virginiana': 73,\n",
       " 'koelreuteria_paniculata': 74,\n",
       " 'larix_decidua': 75,\n",
       " 'liquidambar_styraciflua': 76,\n",
       " 'liriodendron_tulipifera': 77,\n",
       " 'maclura_pomifera': 78,\n",
       " 'magnolia_acuminata': 79,\n",
       " 'magnolia_denudata': 80,\n",
       " 'magnolia_grandiflora': 81,\n",
       " 'magnolia_macrophylla': 82,\n",
       " 'magnolia_stellata': 83,\n",
       " 'magnolia_tripetala': 84,\n",
       " 'magnolia_virginiana': 85,\n",
       " 'malus_baccata': 86,\n",
       " 'malus_coronaria': 87,\n",
       " 'malus_floribunda': 88,\n",
       " 'malus_hupehensis': 89,\n",
       " 'malus_pumila': 90,\n",
       " 'metasequoia_glyptostroboides': 91,\n",
       " 'morus_alba': 92,\n",
       " 'morus_rubra': 93,\n",
       " 'nyssa_sylvatica': 94,\n",
       " 'ostrya_virginiana': 95,\n",
       " 'oxydendrum_arboreum': 96,\n",
       " 'paulownia_tomentosa': 97,\n",
       " 'phellodendron_amurense': 98,\n",
       " 'picea_abies': 99,\n",
       " 'picea_orientalis': 100,\n",
       " 'picea_pungens': 101,\n",
       " 'pinus_bungeana': 102,\n",
       " 'pinus_cembra': 103,\n",
       " 'pinus_densiflora': 104,\n",
       " 'pinus_echinata': 105,\n",
       " 'pinus_flexilis': 106,\n",
       " 'pinus_koraiensis': 107,\n",
       " 'pinus_nigra': 108,\n",
       " 'pinus_parviflora': 109,\n",
       " 'pinus_peucea': 110,\n",
       " 'pinus_pungens': 111,\n",
       " 'pinus_resinosa': 112,\n",
       " 'pinus_rigida': 113,\n",
       " 'pinus_strobus': 114,\n",
       " 'pinus_sylvestris': 115,\n",
       " 'pinus_taeda': 116,\n",
       " 'pinus_thunbergii': 117,\n",
       " 'pinus_virginiana': 118,\n",
       " 'pinus_wallichiana': 119,\n",
       " 'platanus_acerifolia': 120,\n",
       " 'platanus_occidentalis': 121,\n",
       " 'populus_deltoides': 122,\n",
       " 'populus_grandidentata': 123,\n",
       " 'populus_tremuloides': 124,\n",
       " 'prunus_pensylvanica': 125,\n",
       " 'prunus_sargentii': 126,\n",
       " 'prunus_serotina': 127,\n",
       " 'prunus_serrulata': 128,\n",
       " 'prunus_subhirtella': 129,\n",
       " 'prunus_virginiana': 130,\n",
       " 'prunus_yedoensis': 131,\n",
       " 'pseudolarix_amabilis': 132,\n",
       " 'ptelea_trifoliata': 133,\n",
       " 'pyrus_calleryana': 134,\n",
       " 'quercus_acutissima': 135,\n",
       " 'quercus_alba': 136,\n",
       " 'quercus_bicolor': 137,\n",
       " 'quercus_cerris': 138,\n",
       " 'quercus_coccinea': 139,\n",
       " 'quercus_imbricaria': 140,\n",
       " 'quercus_macrocarpa': 141,\n",
       " 'quercus_marilandica': 142,\n",
       " 'quercus_michauxii': 143,\n",
       " 'quercus_montana': 144,\n",
       " 'quercus_muehlenbergii': 145,\n",
       " 'quercus_nigra': 146,\n",
       " 'quercus_palustris': 147,\n",
       " 'quercus_phellos': 148,\n",
       " 'quercus_robur': 149,\n",
       " 'quercus_shumardii': 150,\n",
       " 'quercus_stellata': 151,\n",
       " 'quercus_velutina': 152,\n",
       " 'quercus_virginiana': 153,\n",
       " 'robinia_pseudo-acacia': 154,\n",
       " 'salix_babylonica': 155,\n",
       " 'salix_caroliniana': 156,\n",
       " 'salix_matsudana': 157,\n",
       " 'salix_nigra': 158,\n",
       " 'sassafras_albidum': 159,\n",
       " 'staphylea_trifolia': 160,\n",
       " 'stewartia_pseudocamellia': 161,\n",
       " 'styrax_japonica': 162,\n",
       " 'taxodium_distichum': 163,\n",
       " 'tilia_americana': 164,\n",
       " 'tilia_cordata': 165,\n",
       " 'tilia_europaea': 166,\n",
       " 'tilia_tomentosa': 167,\n",
       " 'tsuga_canadensis': 168,\n",
       " 'ulmus_americana': 169,\n",
       " 'ulmus_glabra': 170,\n",
       " 'ulmus_parvifolia': 171,\n",
       " 'ulmus_procera': 172,\n",
       " 'ulmus_pumila': 173,\n",
       " 'ulmus_rubra': 174,\n",
       " 'zelkova_serrata': 175}"
      ]
     },
     "execution_count": 7,
     "metadata": {},
     "output_type": "execute_result"
    }
   ],
   "source": [
    "# 把label转成对应的数字\n",
    "class_to_num = dict(zip(leaves_labels, range(n_classes)))\n",
    "class_to_num"
   ]
  },
  {
   "cell_type": "code",
   "execution_count": 8,
   "metadata": {
    "colab": {
     "base_uri": "https://localhost:8080/"
    },
    "id": "pL-bKsgqDKX4",
    "outputId": "ffd64402-8167-4afe-f4d9-36738f4d6b1d"
   },
   "outputs": [
    {
     "data": {
      "text/plain": [
       "{0: 'abies_concolor',\n",
       " 1: 'abies_nordmanniana',\n",
       " 2: 'acer_campestre',\n",
       " 3: 'acer_ginnala',\n",
       " 4: 'acer_griseum',\n",
       " 5: 'acer_negundo',\n",
       " 6: 'acer_palmatum',\n",
       " 7: 'acer_pensylvanicum',\n",
       " 8: 'acer_platanoides',\n",
       " 9: 'acer_pseudoplatanus',\n",
       " 10: 'acer_rubrum',\n",
       " 11: 'acer_saccharinum',\n",
       " 12: 'acer_saccharum',\n",
       " 13: 'aesculus_flava',\n",
       " 14: 'aesculus_glabra',\n",
       " 15: 'aesculus_hippocastamon',\n",
       " 16: 'aesculus_pavi',\n",
       " 17: 'ailanthus_altissima',\n",
       " 18: 'albizia_julibrissin',\n",
       " 19: 'amelanchier_arborea',\n",
       " 20: 'amelanchier_canadensis',\n",
       " 21: 'amelanchier_laevis',\n",
       " 22: 'asimina_triloba',\n",
       " 23: 'betula_alleghaniensis',\n",
       " 24: 'betula_jacqemontii',\n",
       " 25: 'betula_lenta',\n",
       " 26: 'betula_nigra',\n",
       " 27: 'betula_populifolia',\n",
       " 28: 'broussonettia_papyrifera',\n",
       " 29: 'carpinus_betulus',\n",
       " 30: 'carpinus_caroliniana',\n",
       " 31: 'carya_cordiformis',\n",
       " 32: 'carya_glabra',\n",
       " 33: 'carya_ovata',\n",
       " 34: 'carya_tomentosa',\n",
       " 35: 'castanea_dentata',\n",
       " 36: 'catalpa_bignonioides',\n",
       " 37: 'catalpa_speciosa',\n",
       " 38: 'cedrus_atlantica',\n",
       " 39: 'cedrus_deodara',\n",
       " 40: 'cedrus_libani',\n",
       " 41: 'celtis_occidentalis',\n",
       " 42: 'celtis_tenuifolia',\n",
       " 43: 'cercidiphyllum_japonicum',\n",
       " 44: 'cercis_canadensis',\n",
       " 45: 'chamaecyparis_pisifera',\n",
       " 46: 'chamaecyparis_thyoides',\n",
       " 47: 'chionanthus_retusus',\n",
       " 48: 'chionanthus_virginicus',\n",
       " 49: 'cladrastis_lutea',\n",
       " 50: 'cornus_florida',\n",
       " 51: 'cornus_kousa',\n",
       " 52: 'cornus_mas',\n",
       " 53: 'crataegus_crus-galli',\n",
       " 54: 'crataegus_laevigata',\n",
       " 55: 'crataegus_phaenopyrum',\n",
       " 56: 'crataegus_pruinosa',\n",
       " 57: 'crataegus_viridis',\n",
       " 58: 'cryptomeria_japonica',\n",
       " 59: 'diospyros_virginiana',\n",
       " 60: 'eucommia_ulmoides',\n",
       " 61: 'evodia_daniellii',\n",
       " 62: 'fagus_grandifolia',\n",
       " 63: 'ficus_carica',\n",
       " 64: 'fraxinus_nigra',\n",
       " 65: 'fraxinus_pennsylvanica',\n",
       " 66: 'ginkgo_biloba',\n",
       " 67: 'gleditsia_triacanthos',\n",
       " 68: 'gymnocladus_dioicus',\n",
       " 69: 'halesia_tetraptera',\n",
       " 70: 'ilex_opaca',\n",
       " 71: 'juglans_cinerea',\n",
       " 72: 'juglans_nigra',\n",
       " 73: 'juniperus_virginiana',\n",
       " 74: 'koelreuteria_paniculata',\n",
       " 75: 'larix_decidua',\n",
       " 76: 'liquidambar_styraciflua',\n",
       " 77: 'liriodendron_tulipifera',\n",
       " 78: 'maclura_pomifera',\n",
       " 79: 'magnolia_acuminata',\n",
       " 80: 'magnolia_denudata',\n",
       " 81: 'magnolia_grandiflora',\n",
       " 82: 'magnolia_macrophylla',\n",
       " 83: 'magnolia_stellata',\n",
       " 84: 'magnolia_tripetala',\n",
       " 85: 'magnolia_virginiana',\n",
       " 86: 'malus_baccata',\n",
       " 87: 'malus_coronaria',\n",
       " 88: 'malus_floribunda',\n",
       " 89: 'malus_hupehensis',\n",
       " 90: 'malus_pumila',\n",
       " 91: 'metasequoia_glyptostroboides',\n",
       " 92: 'morus_alba',\n",
       " 93: 'morus_rubra',\n",
       " 94: 'nyssa_sylvatica',\n",
       " 95: 'ostrya_virginiana',\n",
       " 96: 'oxydendrum_arboreum',\n",
       " 97: 'paulownia_tomentosa',\n",
       " 98: 'phellodendron_amurense',\n",
       " 99: 'picea_abies',\n",
       " 100: 'picea_orientalis',\n",
       " 101: 'picea_pungens',\n",
       " 102: 'pinus_bungeana',\n",
       " 103: 'pinus_cembra',\n",
       " 104: 'pinus_densiflora',\n",
       " 105: 'pinus_echinata',\n",
       " 106: 'pinus_flexilis',\n",
       " 107: 'pinus_koraiensis',\n",
       " 108: 'pinus_nigra',\n",
       " 109: 'pinus_parviflora',\n",
       " 110: 'pinus_peucea',\n",
       " 111: 'pinus_pungens',\n",
       " 112: 'pinus_resinosa',\n",
       " 113: 'pinus_rigida',\n",
       " 114: 'pinus_strobus',\n",
       " 115: 'pinus_sylvestris',\n",
       " 116: 'pinus_taeda',\n",
       " 117: 'pinus_thunbergii',\n",
       " 118: 'pinus_virginiana',\n",
       " 119: 'pinus_wallichiana',\n",
       " 120: 'platanus_acerifolia',\n",
       " 121: 'platanus_occidentalis',\n",
       " 122: 'populus_deltoides',\n",
       " 123: 'populus_grandidentata',\n",
       " 124: 'populus_tremuloides',\n",
       " 125: 'prunus_pensylvanica',\n",
       " 126: 'prunus_sargentii',\n",
       " 127: 'prunus_serotina',\n",
       " 128: 'prunus_serrulata',\n",
       " 129: 'prunus_subhirtella',\n",
       " 130: 'prunus_virginiana',\n",
       " 131: 'prunus_yedoensis',\n",
       " 132: 'pseudolarix_amabilis',\n",
       " 133: 'ptelea_trifoliata',\n",
       " 134: 'pyrus_calleryana',\n",
       " 135: 'quercus_acutissima',\n",
       " 136: 'quercus_alba',\n",
       " 137: 'quercus_bicolor',\n",
       " 138: 'quercus_cerris',\n",
       " 139: 'quercus_coccinea',\n",
       " 140: 'quercus_imbricaria',\n",
       " 141: 'quercus_macrocarpa',\n",
       " 142: 'quercus_marilandica',\n",
       " 143: 'quercus_michauxii',\n",
       " 144: 'quercus_montana',\n",
       " 145: 'quercus_muehlenbergii',\n",
       " 146: 'quercus_nigra',\n",
       " 147: 'quercus_palustris',\n",
       " 148: 'quercus_phellos',\n",
       " 149: 'quercus_robur',\n",
       " 150: 'quercus_shumardii',\n",
       " 151: 'quercus_stellata',\n",
       " 152: 'quercus_velutina',\n",
       " 153: 'quercus_virginiana',\n",
       " 154: 'robinia_pseudo-acacia',\n",
       " 155: 'salix_babylonica',\n",
       " 156: 'salix_caroliniana',\n",
       " 157: 'salix_matsudana',\n",
       " 158: 'salix_nigra',\n",
       " 159: 'sassafras_albidum',\n",
       " 160: 'staphylea_trifolia',\n",
       " 161: 'stewartia_pseudocamellia',\n",
       " 162: 'styrax_japonica',\n",
       " 163: 'taxodium_distichum',\n",
       " 164: 'tilia_americana',\n",
       " 165: 'tilia_cordata',\n",
       " 166: 'tilia_europaea',\n",
       " 167: 'tilia_tomentosa',\n",
       " 168: 'tsuga_canadensis',\n",
       " 169: 'ulmus_americana',\n",
       " 170: 'ulmus_glabra',\n",
       " 171: 'ulmus_parvifolia',\n",
       " 172: 'ulmus_procera',\n",
       " 173: 'ulmus_pumila',\n",
       " 174: 'ulmus_rubra',\n",
       " 175: 'zelkova_serrata'}"
      ]
     },
     "execution_count": 8,
     "metadata": {},
     "output_type": "execute_result"
    }
   ],
   "source": [
    "# 再转换回来，方便最后预测的时候使用\n",
    "num_to_class = {v : k for k, v in class_to_num.items()}\n",
    "num_to_class"
   ]
  },
  {
   "cell_type": "code",
   "execution_count": 9,
   "metadata": {
    "id": "dyYerVWThdSX"
   },
   "outputs": [],
   "source": [
    "# 继承pytorch的dataset，创建自己的\n",
    "class TrainValidData(Dataset):\n",
    "    def __init__(self, csv_path, file_path, resize_height=224, resize_width=224, transform=None):\n",
    "        \"\"\"\n",
    "        Args:\n",
    "            csv_path (string): csv 文件路径\n",
    "            img_path (string): 图像文件所在路径\n",
    "\n",
    "        \"\"\"\n",
    "        \n",
    "        # 需要调整后的照片尺寸，我这里每张图片的大小尺寸不一致#\n",
    "        self.resize_height = resize_height\n",
    "        self.resize_width = resize_width\n",
    "\n",
    "        self.file_path = file_path\n",
    "        self.to_tensor = transforms.ToTensor() #将数据转换成tensor形式\n",
    "        self.transform = transform\n",
    "\n",
    "        # 读取 csv 文件\n",
    "        # 利用pandas读取csv文件\n",
    "        self.data_info = pd.read_csv(csv_path, header=None)  #header=None是去掉表头部分\n",
    "        # 文件第一列包含图像文件名称\n",
    "        self.image_arr = np.asarray(self.data_info.iloc[1:,0]) #self.data_info.iloc[1:,0]表示读取第一列，从第二行开始一直读取到最后一行\n",
    "        # 第二列是图像的 label\n",
    "        self.label_arr = np.asarray(self.data_info.iloc[1:,1])\n",
    "        # 计算 length\n",
    "        self.data_len = len(self.data_info.index) - 1\n",
    "\n",
    "    def __getitem__(self, index):\n",
    "        # 从 image_arr中得到索引对应的文件名\n",
    "        single_image_name = self.image_arr[index]\n",
    "\n",
    "        # 读取图像文件\n",
    "        img_as_img = Image.open(self.file_path + single_image_name)\n",
    "        \n",
    "        #如果需要将RGB三通道的图片转换成灰度图片可参考下面两行\n",
    "        # if img_as_img.mode != 'L':\n",
    "        #     img_as_img = img_as_img.convert('L')\n",
    "        \n",
    "        #设置好需要转换的变量，还可以包括一系列的nomarlize等等操作\n",
    "        transform = transforms.Compose([\n",
    "            transforms.Resize((224, 224)),\n",
    "            transforms.ToTensor()\n",
    "        ])\n",
    "        img_as_img = transform(img_as_img)\n",
    "\n",
    "        # 得到图像的 label\n",
    "        label = self.label_arr[index]\n",
    "        number_label = class_to_num[label]\n",
    "\n",
    "        return (img_as_img, number_label)  #返回每一个index对应的图片数据和对应的label\n",
    "\n",
    "    def __len__(self):\n",
    "        return self.data_len"
   ]
  },
  {
   "cell_type": "code",
   "execution_count": 10,
   "metadata": {
    "id": "ckc_0XmovBHT"
   },
   "outputs": [],
   "source": [
    "# 继承pytorch的dataset，创建自己的\n",
    "class TestData(Dataset):\n",
    "    def __init__(self, csv_path, file_path, resize_height=224, resize_width=224, transform = None):\n",
    "        \"\"\"\n",
    "        Args:\n",
    "            csv_path (string): csv 文件路径\n",
    "            img_path (string): 图像文件所在路径\n",
    "\n",
    "        \"\"\"\n",
    "        \n",
    "        # 需要调整后的照片尺寸，我这里每张图片的大小尺寸不一致#\n",
    "        self.resize_height = resize_height\n",
    "        self.resize_width = resize_width\n",
    "\n",
    "        self.file_path = file_path\n",
    "        self.transform = transform\n",
    "        self.to_tensor = transforms.ToTensor() #将数据转换成tensor形式\n",
    "\n",
    "        # 读取 csv 文件\n",
    "        # 利用pandas读取csv文件\n",
    "        self.data_info = pd.read_csv(csv_path, header=None)  #header=None是去掉表头部分\n",
    "        # 文件第一列包含图像文件名称\n",
    "        self.image_arr = np.asarray(self.data_info.iloc[1:,0]) #self.data_info.iloc[1:,0]表示读取第一列，从第二行开始一直读取到最后一行\n",
    "        # 计算 length\n",
    "        self.data_len = len(self.data_info.index) - 1\n",
    "        \n",
    "    def __getitem__(self, index):\n",
    "        # 从 image_arr中得到索引对应的文件名\n",
    "        single_image_name = self.image_arr[index]\n",
    "\n",
    "        # 读取图像文件\n",
    "        img_as_img = Image.open(self.file_path + single_image_name)\n",
    "        \n",
    "        #如果需要将RGB三通道的图片转换成灰度图片可参考下面两行\n",
    "        # if img_as_img.mode != 'L':\n",
    "        #     img_as_img = img_as_img.convert('L')\n",
    "        \n",
    "        #设置好需要转换的变量，还可以包括一系列的nomarlize等等操作\n",
    "        transform = transforms.Compose([\n",
    "            transforms.Resize((224, 224)),\n",
    "            transforms.ToTensor()\n",
    "        ])\n",
    "        img_as_img = transform(img_as_img)\n",
    "\n",
    "\n",
    "        return img_as_img\n",
    "\n",
    "    def __len__(self):\n",
    "        return self.data_len"
   ]
  },
  {
   "cell_type": "code",
   "execution_count": 11,
   "metadata": {
    "id": "8W9yJbmsVuN_"
   },
   "outputs": [],
   "source": [
    "train_transform = transforms.Compose([\n",
    "    # 随机裁剪图像，所得图像为原始面积的0.08到1之间，高宽比在3/4和4/3之间。\n",
    "    # 然后，缩放图像以创建224 x 224的新图像\n",
    "    transforms.RandomResizedCrop(224, scale=(0.08, 1.0), ratio=(3.0 / 4.0, 4.0 / 3.0)),\n",
    "    transforms.RandomHorizontalFlip(),\n",
    "    # 随机更改亮度，对比度和饱和度\n",
    "    transforms.ColorJitter(brightness=0.4, contrast=0.4, saturation=0.4),\n",
    "    # 添加随机噪声\n",
    "    transforms.ToTensor(),\n",
    "    # 标准化图像的每个通道\n",
    "    transforms.Normalize([0.485, 0.456, 0.406],[0.229, 0.224, 0.225])])\n",
    "val_test_transform = transforms.Compose([\n",
    "    transforms.Resize(256),\n",
    "    # 从图像中心裁切224x224大小的图片\n",
    "    transforms.CenterCrop(224),\n",
    "    transforms.ToTensor(),\n",
    "    transforms.Normalize([0.485, 0.456, 0.406],[0.229, 0.224, 0.225])])"
   ]
  },
  {
   "cell_type": "code",
   "execution_count": 12,
   "metadata": {
    "colab": {
     "base_uri": "https://localhost:8080/"
    },
    "id": "-y969Ozht3gI",
    "outputId": "9584f559-9c43-4738-aba3-7f92ccc88d45"
   },
   "outputs": [
    {
     "name": "stdout",
     "output_type": "stream",
     "text": [
      "                      0                        1\n",
      "0                 image                    label\n",
      "1          images/0.jpg         maclura_pomifera\n",
      "2          images/1.jpg         maclura_pomifera\n",
      "3          images/2.jpg         maclura_pomifera\n",
      "4          images/3.jpg         maclura_pomifera\n",
      "...                 ...                      ...\n",
      "18349  images/18348.jpg          aesculus_glabra\n",
      "18350  images/18349.jpg  liquidambar_styraciflua\n",
      "18351  images/18350.jpg            cedrus_libani\n",
      "18352  images/18351.jpg      prunus_pensylvanica\n",
      "18353  images/18352.jpg          quercus_montana\n",
      "\n",
      "[18354 rows x 2 columns]\n",
      "                     0\n",
      "0                image\n",
      "1     images/18353.jpg\n",
      "2     images/18354.jpg\n",
      "3     images/18355.jpg\n",
      "4     images/18356.jpg\n",
      "...                ...\n",
      "8796  images/27148.jpg\n",
      "8797  images/27149.jpg\n",
      "8798  images/27150.jpg\n",
      "8799  images/27151.jpg\n",
      "8800  images/27152.jpg\n",
      "\n",
      "[8801 rows x 1 columns]\n"
     ]
    }
   ],
   "source": [
    "train_val_path = '../content/competitions/classify-leaves/train.csv'\n",
    "test_path = '../content/competitions/classify-leaves/test.csv'\n",
    "# csv文件中已经images的路径了，因此这里只到上一级目录\n",
    "img_path = '../content/competitions/classify-leaves/'\n",
    "\n",
    "train_val_dataset = TrainValidData(train_val_path, img_path)\n",
    "test_dataset = TestData(test_path, img_path, transform = val_test_transform)\n",
    "print(train_val_dataset.data_info)\n",
    "print(test_dataset.data_info)"
   ]
  },
  {
   "cell_type": "markdown",
   "metadata": {
    "id": "nk1vuWbh-7Ry"
   },
   "source": [
    "### **模型**"
   ]
  },
  {
   "cell_type": "code",
   "execution_count": 13,
   "metadata": {
    "id": "QflrcSQF-ouz"
   },
   "outputs": [],
   "source": [
    "# 是否要冻住模型的前面一些层\n",
    "def set_parameter_requires_grad(model, feature_extracting):\n",
    "    if feature_extracting:\n",
    "        model = model\n",
    "        for param in model.parameters():\n",
    "            param.requires_grad = False\n",
    "\n",
    "# resnext50_32x4d模型\n",
    "def resnext_model(num_classes, feature_extract = False, use_pretrained=True):\n",
    "\n",
    "    model_ft = models.resnext50_32x4d(pretrained=use_pretrained)\n",
    "    set_parameter_requires_grad(model_ft, feature_extract)\n",
    "    num_ftrs = model_ft.fc.in_features\n",
    "    model_ft.fc = nn.Sequential(nn.Linear(num_ftrs, num_classes))\n",
    "\n",
    "    return model_ft"
   ]
  },
  {
   "cell_type": "code",
   "execution_count": 14,
   "metadata": {
    "colab": {
     "base_uri": "https://localhost:8080/"
    },
    "id": "AoIkdlqo_ZKD",
    "outputId": "fc17011d-5f21-4ada-c244-c5e67a5f5d70"
   },
   "outputs": [
    {
     "name": "stdout",
     "output_type": "stream",
     "text": [
      "cuda\n"
     ]
    }
   ],
   "source": [
    "# 看一下是在cpu还是GPU上\n",
    "def get_device():\n",
    "    return 'cuda' if torch.cuda.is_available() else 'cpu'\n",
    "\n",
    "device = get_device()\n",
    "print(device)"
   ]
  },
  {
   "cell_type": "code",
   "execution_count": 15,
   "metadata": {
    "colab": {
     "base_uri": "https://localhost:8080/"
    },
    "id": "jb4HXVVBmzEe",
    "outputId": "e2caa395-c891-4ce0-a0b5-81118b7ccaf2"
   },
   "outputs": [
    {
     "name": "stdout",
     "output_type": "stream",
     "text": [
      "Mon Jun 21 14:51:52 2021       \n",
      "+-----------------------------------------------------------------------------+\n",
      "| NVIDIA-SMI 456.71       Driver Version: 456.71       CUDA Version: 11.1     |\n",
      "|-------------------------------+----------------------+----------------------+\n",
      "| GPU  Name            TCC/WDDM | Bus-Id        Disp.A | Volatile Uncorr. ECC |\n",
      "| Fan  Temp  Perf  Pwr:Usage/Cap|         Memory-Usage | GPU-Util  Compute M. |\n",
      "|===============================+======================+======================|\n",
      "|   0  TITAN RTX          WDDM  | 00000000:65:00.0 Off |                  N/A |\n",
      "| 41%   50C    P8    28W / 280W |   1400MiB / 24576MiB |      4%      Default |\n",
      "+-------------------------------+----------------------+----------------------+\n",
      "|   1  TITAN RTX          WDDM  | 00000000:B3:00.0 Off |                  N/A |\n",
      "| 40%   40C    P8    28W / 280W |   1400MiB / 24576MiB |      2%      Default |\n",
      "+-------------------------------+----------------------+----------------------+\n",
      "                                                                               \n",
      "+-----------------------------------------------------------------------------+\n",
      "| Processes:                                                                  |\n",
      "|  GPU   GI   CI        PID   Type   Process name                  GPU Memory |\n",
      "|        ID   ID                                                   Usage      |\n",
      "|=============================================================================|\n",
      "|    0   N/A  N/A       524    C+G   Insufficient Permissions        N/A      |\n",
      "|    0   N/A  N/A      1952      C   ....lab\\Anaconda3\\python.exe    N/A      |\n",
      "|    0   N/A  N/A      2924    C+G   ...es.TextInput.InputApp.exe    N/A      |\n",
      "|    0   N/A  N/A      4052    C+G   ...artMenuExperienceHost.exe    N/A      |\n",
      "|    0   N/A  N/A      8048    C+G   ...w5n1h2txyewy\\SearchUI.exe    N/A      |\n",
      "|    0   N/A  N/A      8064    C+G   ...qxf38zg5c\\Skype\\Skype.exe    N/A      |\n",
      "|    0   N/A  N/A      8068    C+G   ...me\\Application\\chrome.exe    N/A      |\n",
      "|    0   N/A  N/A      9892    C+G   Insufficient Permissions        N/A      |\n",
      "|    0   N/A  N/A     10304    C+G   ...wekyb3d8bbwe\\Video.UI.exe    N/A      |\n",
      "|    0   N/A  N/A     10584    C+G   ...bbwe\\Microsoft.Photos.exe    N/A      |\n",
      "|    0   N/A  N/A     14900    C+G   ...ekyb3d8bbwe\\YourPhone.exe    N/A      |\n",
      "|    0   N/A  N/A     15168    C+G   C:\\Windows\\explorer.exe         N/A      |\n",
      "|    0   N/A  N/A     15856    C+G   Insufficient Permissions        N/A      |\n",
      "|    0   N/A  N/A     16804    C+G   Insufficient Permissions        N/A      |\n",
      "|    0   N/A  N/A     17144    C+G   ...y\\ShellExperienceHost.exe    N/A      |\n",
      "|    1   N/A  N/A       524    C+G   Insufficient Permissions        N/A      |\n",
      "|    1   N/A  N/A      1952      C   ....lab\\Anaconda3\\python.exe    N/A      |\n",
      "|    1   N/A  N/A      2924    C+G   ...es.TextInput.InputApp.exe    N/A      |\n",
      "|    1   N/A  N/A      4052    C+G   ...artMenuExperienceHost.exe    N/A      |\n",
      "|    1   N/A  N/A      8048    C+G   ...w5n1h2txyewy\\SearchUI.exe    N/A      |\n",
      "|    1   N/A  N/A      8064    C+G   ...qxf38zg5c\\Skype\\Skype.exe    N/A      |\n",
      "|    1   N/A  N/A      8068    C+G   ...me\\Application\\chrome.exe    N/A      |\n",
      "|    1   N/A  N/A      9892    C+G   Insufficient Permissions        N/A      |\n",
      "|    1   N/A  N/A     10304    C+G   ...wekyb3d8bbwe\\Video.UI.exe    N/A      |\n",
      "|    1   N/A  N/A     10584    C+G   ...bbwe\\Microsoft.Photos.exe    N/A      |\n",
      "|    1   N/A  N/A     14900    C+G   ...ekyb3d8bbwe\\YourPhone.exe    N/A      |\n",
      "|    1   N/A  N/A     15168    C+G   C:\\Windows\\explorer.exe         N/A      |\n",
      "|    1   N/A  N/A     15856    C+G   Insufficient Permissions        N/A      |\n",
      "|    1   N/A  N/A     16804    C+G   Insufficient Permissions        N/A      |\n",
      "|    1   N/A  N/A     17144    C+G   ...y\\ShellExperienceHost.exe    N/A      |\n",
      "+-----------------------------------------------------------------------------+\n"
     ]
    }
   ],
   "source": [
    "!nvidia-smi"
   ]
  },
  {
   "cell_type": "code",
   "execution_count": 16,
   "metadata": {
    "id": "hkkwMZyKuuKd"
   },
   "outputs": [],
   "source": [
    "# Configuration options\n",
    "k_folds = 5\n",
    "num_epochs = 30\n",
    "learning_rate = 1e-3\n",
    "weight_decay = 1e-3\n",
    "train_loss_function = CutMixCrossEntropyLoss(True)\n",
    "valid_loss_function = nn.CrossEntropyLoss()\n",
    "# For fold results\n",
    "results = {}\n",
    "\n",
    "# Set fixed random number seed\n",
    "torch.manual_seed(42)\n",
    "\n",
    "# Define the K-fold Cross Validator\n",
    "kfold = KFold(n_splits=k_folds, shuffle=True)"
   ]
  },
  {
   "cell_type": "markdown",
   "metadata": {
    "id": "TobMADIKCilB"
   },
   "source": [
    "### **训练**"
   ]
  },
  {
   "cell_type": "code",
   "execution_count": 17,
   "metadata": {
    "colab": {
     "base_uri": "https://localhost:8080/"
    },
    "id": "lwVkf8zm8z1W",
    "outputId": "f7bc30a7-299d-4207-a5bc-81fcc6c4d520"
   },
   "outputs": [
    {
     "name": "stdout",
     "output_type": "stream",
     "text": [
      "--------------------------------------\n",
      "FOLD 0\n",
      "--------------------------------------\n",
      "Starting epoch 1\n"
     ]
    },
    {
     "name": "stderr",
     "output_type": "stream",
     "text": [
      "  0%|          | 0/115 [00:00<?, ?it/s]C:\\Users\\coin.lab\\Anaconda3\\lib\\site-packages\\torch\\nn\\functional.py:718: UserWarning: Named tensors and all their associated APIs are an experimental feature and subject to change. Please do not use them for anything important until they are released as stable. (Triggered internally at  ..\\c10/core/TensorImpl.h:1156.)\n",
      "  return torch.max_pool2d(input, kernel_size, stride, padding, dilation, ceil_mode)\n",
      "100%|██████████| 115/115 [01:50<00:00,  1.04it/s]\n"
     ]
    },
    {
     "name": "stdout",
     "output_type": "stream",
     "text": [
      "第1个epoch的学习率：0.001000\n",
      "[ Train | 001/030 ] loss = 3.53967\n",
      "Starting epoch 2\n"
     ]
    },
    {
     "name": "stderr",
     "output_type": "stream",
     "text": [
      "100%|██████████| 115/115 [01:49<00:00,  1.05it/s]\n"
     ]
    },
    {
     "name": "stdout",
     "output_type": "stream",
     "text": [
      "第2个epoch的学习率：0.000976\n",
      "[ Train | 002/030 ] loss = 2.53754\n",
      "Starting epoch 3\n"
     ]
    },
    {
     "name": "stderr",
     "output_type": "stream",
     "text": [
      "100%|██████████| 115/115 [01:50<00:00,  1.04it/s]\n"
     ]
    },
    {
     "name": "stdout",
     "output_type": "stream",
     "text": [
      "第3个epoch的学习率：0.000905\n",
      "[ Train | 003/030 ] loss = 2.14947\n",
      "Starting epoch 4\n"
     ]
    },
    {
     "name": "stderr",
     "output_type": "stream",
     "text": [
      "100%|██████████| 115/115 [01:49<00:00,  1.05it/s]\n"
     ]
    },
    {
     "name": "stdout",
     "output_type": "stream",
     "text": [
      "第4个epoch的学习率：0.000794\n",
      "[ Train | 004/030 ] loss = 1.90576\n",
      "Starting epoch 5\n"
     ]
    },
    {
     "name": "stderr",
     "output_type": "stream",
     "text": [
      "100%|██████████| 115/115 [01:49<00:00,  1.05it/s]\n"
     ]
    },
    {
     "name": "stdout",
     "output_type": "stream",
     "text": [
      "第5个epoch的学习率：0.000655\n",
      "[ Train | 005/030 ] loss = 1.69443\n",
      "Starting epoch 6\n"
     ]
    },
    {
     "name": "stderr",
     "output_type": "stream",
     "text": [
      "100%|██████████| 115/115 [01:49<00:00,  1.05it/s]\n"
     ]
    },
    {
     "name": "stdout",
     "output_type": "stream",
     "text": [
      "第6个epoch的学习率：0.000500\n",
      "[ Train | 006/030 ] loss = 1.56707\n",
      "Starting epoch 7\n"
     ]
    },
    {
     "name": "stderr",
     "output_type": "stream",
     "text": [
      "100%|██████████| 115/115 [01:49<00:00,  1.05it/s]\n"
     ]
    },
    {
     "name": "stdout",
     "output_type": "stream",
     "text": [
      "第7个epoch的学习率：0.000345\n",
      "[ Train | 007/030 ] loss = 1.43166\n",
      "Starting epoch 8\n"
     ]
    },
    {
     "name": "stderr",
     "output_type": "stream",
     "text": [
      "100%|██████████| 115/115 [01:49<00:00,  1.05it/s]\n"
     ]
    },
    {
     "name": "stdout",
     "output_type": "stream",
     "text": [
      "第8个epoch的学习率：0.000206\n",
      "[ Train | 008/030 ] loss = 1.34839\n",
      "Starting epoch 9\n"
     ]
    },
    {
     "name": "stderr",
     "output_type": "stream",
     "text": [
      "100%|██████████| 115/115 [01:49<00:00,  1.05it/s]\n"
     ]
    },
    {
     "name": "stdout",
     "output_type": "stream",
     "text": [
      "第9个epoch的学习率：0.000095\n",
      "[ Train | 009/030 ] loss = 1.28475\n",
      "Starting epoch 10\n"
     ]
    },
    {
     "name": "stderr",
     "output_type": "stream",
     "text": [
      "100%|██████████| 115/115 [01:49<00:00,  1.05it/s]\n"
     ]
    },
    {
     "name": "stdout",
     "output_type": "stream",
     "text": [
      "第10个epoch的学习率：0.000024\n",
      "[ Train | 010/030 ] loss = 1.22290\n",
      "Starting epoch 11\n"
     ]
    },
    {
     "name": "stderr",
     "output_type": "stream",
     "text": [
      "100%|██████████| 115/115 [01:49<00:00,  1.05it/s]\n"
     ]
    },
    {
     "name": "stdout",
     "output_type": "stream",
     "text": [
      "第11个epoch的学习率：0.000000\n",
      "[ Train | 011/030 ] loss = 1.22624\n",
      "Starting epoch 12\n"
     ]
    },
    {
     "name": "stderr",
     "output_type": "stream",
     "text": [
      "100%|██████████| 115/115 [01:49<00:00,  1.05it/s]\n"
     ]
    },
    {
     "name": "stdout",
     "output_type": "stream",
     "text": [
      "第12个epoch的学习率：0.000024\n",
      "[ Train | 012/030 ] loss = 1.20756\n",
      "Starting epoch 13\n"
     ]
    },
    {
     "name": "stderr",
     "output_type": "stream",
     "text": [
      "100%|██████████| 115/115 [01:50<00:00,  1.04it/s]\n"
     ]
    },
    {
     "name": "stdout",
     "output_type": "stream",
     "text": [
      "第13个epoch的学习率：0.000095\n",
      "[ Train | 013/030 ] loss = 1.21434\n",
      "Starting epoch 14\n"
     ]
    },
    {
     "name": "stderr",
     "output_type": "stream",
     "text": [
      "100%|██████████| 115/115 [01:49<00:00,  1.05it/s]\n"
     ]
    },
    {
     "name": "stdout",
     "output_type": "stream",
     "text": [
      "第14个epoch的学习率：0.000206\n",
      "[ Train | 014/030 ] loss = 1.25576\n",
      "Starting epoch 15\n"
     ]
    },
    {
     "name": "stderr",
     "output_type": "stream",
     "text": [
      "100%|██████████| 115/115 [01:49<00:00,  1.05it/s]\n"
     ]
    },
    {
     "name": "stdout",
     "output_type": "stream",
     "text": [
      "第15个epoch的学习率：0.000345\n",
      "[ Train | 015/030 ] loss = 1.31050\n",
      "Starting epoch 16\n"
     ]
    },
    {
     "name": "stderr",
     "output_type": "stream",
     "text": [
      "100%|██████████| 115/115 [01:49<00:00,  1.05it/s]\n"
     ]
    },
    {
     "name": "stdout",
     "output_type": "stream",
     "text": [
      "第16个epoch的学习率：0.000500\n",
      "[ Train | 016/030 ] loss = 1.37256\n",
      "Starting epoch 17\n"
     ]
    },
    {
     "name": "stderr",
     "output_type": "stream",
     "text": [
      "100%|██████████| 115/115 [01:50<00:00,  1.04it/s]\n"
     ]
    },
    {
     "name": "stdout",
     "output_type": "stream",
     "text": [
      "第17个epoch的学习率：0.000655\n",
      "[ Train | 017/030 ] loss = 1.44957\n",
      "Starting epoch 18\n"
     ]
    },
    {
     "name": "stderr",
     "output_type": "stream",
     "text": [
      "100%|██████████| 115/115 [01:49<00:00,  1.05it/s]\n"
     ]
    },
    {
     "name": "stdout",
     "output_type": "stream",
     "text": [
      "第18个epoch的学习率：0.000794\n",
      "[ Train | 018/030 ] loss = 1.49769\n",
      "Starting epoch 19\n"
     ]
    },
    {
     "name": "stderr",
     "output_type": "stream",
     "text": [
      "100%|██████████| 115/115 [01:49<00:00,  1.05it/s]\n"
     ]
    },
    {
     "name": "stdout",
     "output_type": "stream",
     "text": [
      "第19个epoch的学习率：0.000905\n",
      "[ Train | 019/030 ] loss = 1.50516\n",
      "Starting epoch 20\n"
     ]
    },
    {
     "name": "stderr",
     "output_type": "stream",
     "text": [
      "100%|██████████| 115/115 [01:50<00:00,  1.04it/s]\n"
     ]
    },
    {
     "name": "stdout",
     "output_type": "stream",
     "text": [
      "第20个epoch的学习率：0.000976\n",
      "[ Train | 020/030 ] loss = 1.51294\n",
      "Starting epoch 21\n"
     ]
    },
    {
     "name": "stderr",
     "output_type": "stream",
     "text": [
      "100%|██████████| 115/115 [01:50<00:00,  1.04it/s]\n"
     ]
    },
    {
     "name": "stdout",
     "output_type": "stream",
     "text": [
      "第21个epoch的学习率：0.001000\n",
      "[ Train | 021/030 ] loss = 1.44662\n",
      "Starting epoch 22\n"
     ]
    },
    {
     "name": "stderr",
     "output_type": "stream",
     "text": [
      "100%|██████████| 115/115 [01:49<00:00,  1.05it/s]\n"
     ]
    },
    {
     "name": "stdout",
     "output_type": "stream",
     "text": [
      "第22个epoch的学习率：0.000976\n",
      "[ Train | 022/030 ] loss = 1.38525\n",
      "Starting epoch 23\n"
     ]
    },
    {
     "name": "stderr",
     "output_type": "stream",
     "text": [
      "100%|██████████| 115/115 [01:50<00:00,  1.04it/s]\n"
     ]
    },
    {
     "name": "stdout",
     "output_type": "stream",
     "text": [
      "第23个epoch的学习率：0.000905\n",
      "[ Train | 023/030 ] loss = 1.33168\n",
      "Starting epoch 24\n"
     ]
    },
    {
     "name": "stderr",
     "output_type": "stream",
     "text": [
      "100%|██████████| 115/115 [01:50<00:00,  1.04it/s]\n"
     ]
    },
    {
     "name": "stdout",
     "output_type": "stream",
     "text": [
      "第24个epoch的学习率：0.000794\n",
      "[ Train | 024/030 ] loss = 1.25991\n",
      "Starting epoch 25\n"
     ]
    },
    {
     "name": "stderr",
     "output_type": "stream",
     "text": [
      "100%|██████████| 115/115 [01:50<00:00,  1.05it/s]\n"
     ]
    },
    {
     "name": "stdout",
     "output_type": "stream",
     "text": [
      "第25个epoch的学习率：0.000655\n",
      "[ Train | 025/030 ] loss = 1.21696\n",
      "Starting epoch 26\n"
     ]
    },
    {
     "name": "stderr",
     "output_type": "stream",
     "text": [
      "100%|██████████| 115/115 [01:48<00:00,  1.06it/s]\n"
     ]
    },
    {
     "name": "stdout",
     "output_type": "stream",
     "text": [
      "第26个epoch的学习率：0.000500\n",
      "[ Train | 026/030 ] loss = 1.12525\n",
      "Starting epoch 27\n"
     ]
    },
    {
     "name": "stderr",
     "output_type": "stream",
     "text": [
      "100%|██████████| 115/115 [01:49<00:00,  1.05it/s]\n"
     ]
    },
    {
     "name": "stdout",
     "output_type": "stream",
     "text": [
      "第27个epoch的学习率：0.000345\n",
      "[ Train | 027/030 ] loss = 1.08455\n",
      "Starting epoch 28\n"
     ]
    },
    {
     "name": "stderr",
     "output_type": "stream",
     "text": [
      "100%|██████████| 115/115 [01:49<00:00,  1.05it/s]\n"
     ]
    },
    {
     "name": "stdout",
     "output_type": "stream",
     "text": [
      "第28个epoch的学习率：0.000206\n",
      "[ Train | 028/030 ] loss = 1.04390\n",
      "Starting epoch 29\n"
     ]
    },
    {
     "name": "stderr",
     "output_type": "stream",
     "text": [
      "100%|██████████| 115/115 [01:49<00:00,  1.05it/s]\n"
     ]
    },
    {
     "name": "stdout",
     "output_type": "stream",
     "text": [
      "第29个epoch的学习率：0.000095\n",
      "[ Train | 029/030 ] loss = 1.00564\n",
      "Starting epoch 30\n"
     ]
    },
    {
     "name": "stderr",
     "output_type": "stream",
     "text": [
      "100%|██████████| 115/115 [01:49<00:00,  1.05it/s]\n"
     ]
    },
    {
     "name": "stdout",
     "output_type": "stream",
     "text": [
      "第30个epoch的学习率：0.000024\n",
      "[ Train | 030/030 ] loss = 0.99084\n",
      "Training process has finished. Saving trained model.\n",
      "Starting validation\n",
      "saving model with loss 0.991\n"
     ]
    },
    {
     "name": "stderr",
     "output_type": "stream",
     "text": [
      "100%|██████████| 29/29 [00:09<00:00,  2.93it/s]\n"
     ]
    },
    {
     "name": "stdout",
     "output_type": "stream",
     "text": [
      "[ Valid | 030/030 ] loss = 0.06744, acc = 0.97712\n",
      "Accuracy for fold 0: 0\n",
      "--------------------------------------\n",
      "FOLD 1\n",
      "--------------------------------------\n",
      "Starting epoch 1\n"
     ]
    },
    {
     "name": "stderr",
     "output_type": "stream",
     "text": [
      "100%|██████████| 115/115 [01:49<00:00,  1.05it/s]\n"
     ]
    },
    {
     "name": "stdout",
     "output_type": "stream",
     "text": [
      "第1个epoch的学习率：0.001000\n",
      "[ Train | 001/030 ] loss = 3.53872\n",
      "Starting epoch 2\n"
     ]
    },
    {
     "name": "stderr",
     "output_type": "stream",
     "text": [
      "100%|██████████| 115/115 [01:49<00:00,  1.05it/s]\n"
     ]
    },
    {
     "name": "stdout",
     "output_type": "stream",
     "text": [
      "第2个epoch的学习率：0.000976\n",
      "[ Train | 002/030 ] loss = 2.56811\n",
      "Starting epoch 3\n"
     ]
    },
    {
     "name": "stderr",
     "output_type": "stream",
     "text": [
      "100%|██████████| 115/115 [01:50<00:00,  1.04it/s]\n"
     ]
    },
    {
     "name": "stdout",
     "output_type": "stream",
     "text": [
      "第3个epoch的学习率：0.000905\n",
      "[ Train | 003/030 ] loss = 2.15064\n",
      "Starting epoch 4\n"
     ]
    },
    {
     "name": "stderr",
     "output_type": "stream",
     "text": [
      "100%|██████████| 115/115 [01:49<00:00,  1.05it/s]\n"
     ]
    },
    {
     "name": "stdout",
     "output_type": "stream",
     "text": [
      "第4个epoch的学习率：0.000794\n",
      "[ Train | 004/030 ] loss = 1.90057\n",
      "Starting epoch 5\n"
     ]
    },
    {
     "name": "stderr",
     "output_type": "stream",
     "text": [
      "100%|██████████| 115/115 [01:49<00:00,  1.05it/s]\n"
     ]
    },
    {
     "name": "stdout",
     "output_type": "stream",
     "text": [
      "第5个epoch的学习率：0.000655\n",
      "[ Train | 005/030 ] loss = 1.73654\n",
      "Starting epoch 6\n"
     ]
    },
    {
     "name": "stderr",
     "output_type": "stream",
     "text": [
      "100%|██████████| 115/115 [01:49<00:00,  1.05it/s]\n"
     ]
    },
    {
     "name": "stdout",
     "output_type": "stream",
     "text": [
      "第6个epoch的学习率：0.000500\n",
      "[ Train | 006/030 ] loss = 1.56247\n",
      "Starting epoch 7\n"
     ]
    },
    {
     "name": "stderr",
     "output_type": "stream",
     "text": [
      "100%|██████████| 115/115 [01:49<00:00,  1.05it/s]\n"
     ]
    },
    {
     "name": "stdout",
     "output_type": "stream",
     "text": [
      "第7个epoch的学习率：0.000345\n",
      "[ Train | 007/030 ] loss = 1.44790\n",
      "Starting epoch 8\n"
     ]
    },
    {
     "name": "stderr",
     "output_type": "stream",
     "text": [
      "100%|██████████| 115/115 [01:49<00:00,  1.05it/s]\n"
     ]
    },
    {
     "name": "stdout",
     "output_type": "stream",
     "text": [
      "第8个epoch的学习率：0.000206\n",
      "[ Train | 008/030 ] loss = 1.36041\n",
      "Starting epoch 9\n"
     ]
    },
    {
     "name": "stderr",
     "output_type": "stream",
     "text": [
      "100%|██████████| 115/115 [01:49<00:00,  1.05it/s]\n"
     ]
    },
    {
     "name": "stdout",
     "output_type": "stream",
     "text": [
      "第9个epoch的学习率：0.000095\n",
      "[ Train | 009/030 ] loss = 1.28659\n",
      "Starting epoch 10\n"
     ]
    },
    {
     "name": "stderr",
     "output_type": "stream",
     "text": [
      "100%|██████████| 115/115 [01:48<00:00,  1.06it/s]\n"
     ]
    },
    {
     "name": "stdout",
     "output_type": "stream",
     "text": [
      "第10个epoch的学习率：0.000024\n",
      "[ Train | 010/030 ] loss = 1.23734\n",
      "Starting epoch 11\n"
     ]
    },
    {
     "name": "stderr",
     "output_type": "stream",
     "text": [
      "100%|██████████| 115/115 [01:49<00:00,  1.05it/s]\n"
     ]
    },
    {
     "name": "stdout",
     "output_type": "stream",
     "text": [
      "第11个epoch的学习率：0.000000\n",
      "[ Train | 011/030 ] loss = 1.23457\n",
      "Starting epoch 12\n"
     ]
    },
    {
     "name": "stderr",
     "output_type": "stream",
     "text": [
      "100%|██████████| 115/115 [01:49<00:00,  1.05it/s]\n"
     ]
    },
    {
     "name": "stdout",
     "output_type": "stream",
     "text": [
      "第12个epoch的学习率：0.000024\n",
      "[ Train | 012/030 ] loss = 1.22278\n",
      "Starting epoch 13\n"
     ]
    },
    {
     "name": "stderr",
     "output_type": "stream",
     "text": [
      "100%|██████████| 115/115 [01:48<00:00,  1.06it/s]\n"
     ]
    },
    {
     "name": "stdout",
     "output_type": "stream",
     "text": [
      "第13个epoch的学习率：0.000095\n",
      "[ Train | 013/030 ] loss = 1.22895\n",
      "Starting epoch 14\n"
     ]
    },
    {
     "name": "stderr",
     "output_type": "stream",
     "text": [
      "100%|██████████| 115/115 [01:49<00:00,  1.05it/s]\n"
     ]
    },
    {
     "name": "stdout",
     "output_type": "stream",
     "text": [
      "第14个epoch的学习率：0.000206\n",
      "[ Train | 014/030 ] loss = 1.25991\n",
      "Starting epoch 15\n"
     ]
    },
    {
     "name": "stderr",
     "output_type": "stream",
     "text": [
      "100%|██████████| 115/115 [01:48<00:00,  1.06it/s]\n"
     ]
    },
    {
     "name": "stdout",
     "output_type": "stream",
     "text": [
      "第15个epoch的学习率：0.000345\n",
      "[ Train | 015/030 ] loss = 1.29215\n",
      "Starting epoch 16\n"
     ]
    },
    {
     "name": "stderr",
     "output_type": "stream",
     "text": [
      "100%|██████████| 115/115 [01:48<00:00,  1.06it/s]\n"
     ]
    },
    {
     "name": "stdout",
     "output_type": "stream",
     "text": [
      "第16个epoch的学习率：0.000500\n",
      "[ Train | 016/030 ] loss = 1.38223\n",
      "Starting epoch 17\n"
     ]
    },
    {
     "name": "stderr",
     "output_type": "stream",
     "text": [
      "100%|██████████| 115/115 [01:49<00:00,  1.05it/s]\n"
     ]
    },
    {
     "name": "stdout",
     "output_type": "stream",
     "text": [
      "第17个epoch的学习率：0.000655\n",
      "[ Train | 017/030 ] loss = 1.45073\n",
      "Starting epoch 18\n"
     ]
    },
    {
     "name": "stderr",
     "output_type": "stream",
     "text": [
      "100%|██████████| 115/115 [01:49<00:00,  1.05it/s]\n"
     ]
    },
    {
     "name": "stdout",
     "output_type": "stream",
     "text": [
      "第18个epoch的学习率：0.000794\n",
      "[ Train | 018/030 ] loss = 1.49235\n",
      "Starting epoch 19\n"
     ]
    },
    {
     "name": "stderr",
     "output_type": "stream",
     "text": [
      "100%|██████████| 115/115 [01:49<00:00,  1.05it/s]\n"
     ]
    },
    {
     "name": "stdout",
     "output_type": "stream",
     "text": [
      "第19个epoch的学习率：0.000905\n",
      "[ Train | 019/030 ] loss = 1.52652\n",
      "Starting epoch 20\n"
     ]
    },
    {
     "name": "stderr",
     "output_type": "stream",
     "text": [
      "100%|██████████| 115/115 [01:48<00:00,  1.06it/s]\n"
     ]
    },
    {
     "name": "stdout",
     "output_type": "stream",
     "text": [
      "第20个epoch的学习率：0.000976\n",
      "[ Train | 020/030 ] loss = 1.50825\n",
      "Starting epoch 21\n"
     ]
    },
    {
     "name": "stderr",
     "output_type": "stream",
     "text": [
      "100%|██████████| 115/115 [01:49<00:00,  1.05it/s]\n"
     ]
    },
    {
     "name": "stdout",
     "output_type": "stream",
     "text": [
      "第21个epoch的学习率：0.001000\n",
      "[ Train | 021/030 ] loss = 1.46304\n",
      "Starting epoch 22\n"
     ]
    },
    {
     "name": "stderr",
     "output_type": "stream",
     "text": [
      "100%|██████████| 115/115 [01:49<00:00,  1.05it/s]\n"
     ]
    },
    {
     "name": "stdout",
     "output_type": "stream",
     "text": [
      "第22个epoch的学习率：0.000976\n",
      "[ Train | 022/030 ] loss = 1.39596\n",
      "Starting epoch 23\n"
     ]
    },
    {
     "name": "stderr",
     "output_type": "stream",
     "text": [
      "100%|██████████| 115/115 [01:49<00:00,  1.05it/s]\n"
     ]
    },
    {
     "name": "stdout",
     "output_type": "stream",
     "text": [
      "第23个epoch的学习率：0.000905\n",
      "[ Train | 023/030 ] loss = 1.34342\n",
      "Starting epoch 24\n"
     ]
    },
    {
     "name": "stderr",
     "output_type": "stream",
     "text": [
      "100%|██████████| 115/115 [01:49<00:00,  1.05it/s]\n"
     ]
    },
    {
     "name": "stdout",
     "output_type": "stream",
     "text": [
      "第24个epoch的学习率：0.000794\n",
      "[ Train | 024/030 ] loss = 1.27335\n",
      "Starting epoch 25\n"
     ]
    },
    {
     "name": "stderr",
     "output_type": "stream",
     "text": [
      "100%|██████████| 115/115 [01:49<00:00,  1.05it/s]\n"
     ]
    },
    {
     "name": "stdout",
     "output_type": "stream",
     "text": [
      "第25个epoch的学习率：0.000655\n",
      "[ Train | 025/030 ] loss = 1.19333\n",
      "Starting epoch 26\n"
     ]
    },
    {
     "name": "stderr",
     "output_type": "stream",
     "text": [
      "100%|██████████| 115/115 [01:50<00:00,  1.05it/s]\n"
     ]
    },
    {
     "name": "stdout",
     "output_type": "stream",
     "text": [
      "第26个epoch的学习率：0.000500\n",
      "[ Train | 026/030 ] loss = 1.15338\n",
      "Starting epoch 27\n"
     ]
    },
    {
     "name": "stderr",
     "output_type": "stream",
     "text": [
      "100%|██████████| 115/115 [01:49<00:00,  1.05it/s]\n"
     ]
    },
    {
     "name": "stdout",
     "output_type": "stream",
     "text": [
      "第27个epoch的学习率：0.000345\n",
      "[ Train | 027/030 ] loss = 1.08202\n",
      "Starting epoch 28\n"
     ]
    },
    {
     "name": "stderr",
     "output_type": "stream",
     "text": [
      "100%|██████████| 115/115 [01:48<00:00,  1.06it/s]\n"
     ]
    },
    {
     "name": "stdout",
     "output_type": "stream",
     "text": [
      "第28个epoch的学习率：0.000206\n",
      "[ Train | 028/030 ] loss = 1.04344\n",
      "Starting epoch 29\n"
     ]
    },
    {
     "name": "stderr",
     "output_type": "stream",
     "text": [
      "100%|██████████| 115/115 [01:49<00:00,  1.05it/s]\n"
     ]
    },
    {
     "name": "stdout",
     "output_type": "stream",
     "text": [
      "第29个epoch的学习率：0.000095\n",
      "[ Train | 029/030 ] loss = 0.99476\n",
      "Starting epoch 30\n"
     ]
    },
    {
     "name": "stderr",
     "output_type": "stream",
     "text": [
      "100%|██████████| 115/115 [01:49<00:00,  1.05it/s]\n"
     ]
    },
    {
     "name": "stdout",
     "output_type": "stream",
     "text": [
      "第30个epoch的学习率：0.000024\n",
      "[ Train | 030/030 ] loss = 0.99382\n",
      "Training process has finished. Saving trained model.\n",
      "Starting validation\n",
      "saving model with loss 0.994\n"
     ]
    },
    {
     "name": "stderr",
     "output_type": "stream",
     "text": [
      "100%|██████████| 29/29 [00:09<00:00,  2.90it/s]\n"
     ]
    },
    {
     "name": "stdout",
     "output_type": "stream",
     "text": [
      "[ Valid | 030/030 ] loss = 0.04038, acc = 0.98626\n",
      "Accuracy for fold 1: 0\n",
      "--------------------------------------\n",
      "FOLD 2\n",
      "--------------------------------------\n",
      "Starting epoch 1\n"
     ]
    },
    {
     "name": "stderr",
     "output_type": "stream",
     "text": [
      "100%|██████████| 115/115 [01:49<00:00,  1.05it/s]\n"
     ]
    },
    {
     "name": "stdout",
     "output_type": "stream",
     "text": [
      "第1个epoch的学习率：0.001000\n",
      "[ Train | 001/030 ] loss = 3.45679\n",
      "Starting epoch 2\n"
     ]
    },
    {
     "name": "stderr",
     "output_type": "stream",
     "text": [
      "100%|██████████| 115/115 [01:49<00:00,  1.05it/s]\n"
     ]
    },
    {
     "name": "stdout",
     "output_type": "stream",
     "text": [
      "第2个epoch的学习率：0.000976\n",
      "[ Train | 002/030 ] loss = 2.54280\n",
      "Starting epoch 3\n"
     ]
    },
    {
     "name": "stderr",
     "output_type": "stream",
     "text": [
      "100%|██████████| 115/115 [01:50<00:00,  1.04it/s]\n"
     ]
    },
    {
     "name": "stdout",
     "output_type": "stream",
     "text": [
      "第3个epoch的学习率：0.000905\n",
      "[ Train | 003/030 ] loss = 2.14816\n",
      "Starting epoch 4\n"
     ]
    },
    {
     "name": "stderr",
     "output_type": "stream",
     "text": [
      "100%|██████████| 115/115 [01:50<00:00,  1.04it/s]\n"
     ]
    },
    {
     "name": "stdout",
     "output_type": "stream",
     "text": [
      "第4个epoch的学习率：0.000794\n",
      "[ Train | 004/030 ] loss = 1.90190\n",
      "Starting epoch 5\n"
     ]
    },
    {
     "name": "stderr",
     "output_type": "stream",
     "text": [
      "100%|██████████| 115/115 [01:50<00:00,  1.04it/s]\n"
     ]
    },
    {
     "name": "stdout",
     "output_type": "stream",
     "text": [
      "第5个epoch的学习率：0.000655\n",
      "[ Train | 005/030 ] loss = 1.71575\n",
      "Starting epoch 6\n"
     ]
    },
    {
     "name": "stderr",
     "output_type": "stream",
     "text": [
      "100%|██████████| 115/115 [01:49<00:00,  1.05it/s]\n"
     ]
    },
    {
     "name": "stdout",
     "output_type": "stream",
     "text": [
      "第6个epoch的学习率：0.000500\n",
      "[ Train | 006/030 ] loss = 1.54706\n",
      "Starting epoch 7\n"
     ]
    },
    {
     "name": "stderr",
     "output_type": "stream",
     "text": [
      "100%|██████████| 115/115 [01:50<00:00,  1.04it/s]\n"
     ]
    },
    {
     "name": "stdout",
     "output_type": "stream",
     "text": [
      "第7个epoch的学习率：0.000345\n",
      "[ Train | 007/030 ] loss = 1.44302\n",
      "Starting epoch 8\n"
     ]
    },
    {
     "name": "stderr",
     "output_type": "stream",
     "text": [
      "100%|██████████| 115/115 [01:50<00:00,  1.04it/s]\n"
     ]
    },
    {
     "name": "stdout",
     "output_type": "stream",
     "text": [
      "第8个epoch的学习率：0.000206\n",
      "[ Train | 008/030 ] loss = 1.36272\n",
      "Starting epoch 9\n"
     ]
    },
    {
     "name": "stderr",
     "output_type": "stream",
     "text": [
      "100%|██████████| 115/115 [01:49<00:00,  1.05it/s]\n"
     ]
    },
    {
     "name": "stdout",
     "output_type": "stream",
     "text": [
      "第9个epoch的学习率：0.000095\n",
      "[ Train | 009/030 ] loss = 1.26670\n",
      "Starting epoch 10\n"
     ]
    },
    {
     "name": "stderr",
     "output_type": "stream",
     "text": [
      "100%|██████████| 115/115 [01:50<00:00,  1.04it/s]\n"
     ]
    },
    {
     "name": "stdout",
     "output_type": "stream",
     "text": [
      "第10个epoch的学习率：0.000024\n",
      "[ Train | 010/030 ] loss = 1.24829\n",
      "Starting epoch 11\n"
     ]
    },
    {
     "name": "stderr",
     "output_type": "stream",
     "text": [
      "100%|██████████| 115/115 [01:50<00:00,  1.04it/s]\n"
     ]
    },
    {
     "name": "stdout",
     "output_type": "stream",
     "text": [
      "第11个epoch的学习率：0.000000\n",
      "[ Train | 011/030 ] loss = 1.20591\n",
      "Starting epoch 12\n"
     ]
    },
    {
     "name": "stderr",
     "output_type": "stream",
     "text": [
      "100%|██████████| 115/115 [01:49<00:00,  1.05it/s]\n"
     ]
    },
    {
     "name": "stdout",
     "output_type": "stream",
     "text": [
      "第12个epoch的学习率：0.000024\n",
      "[ Train | 012/030 ] loss = 1.20852\n",
      "Starting epoch 13\n"
     ]
    },
    {
     "name": "stderr",
     "output_type": "stream",
     "text": [
      "100%|██████████| 115/115 [01:50<00:00,  1.04it/s]\n"
     ]
    },
    {
     "name": "stdout",
     "output_type": "stream",
     "text": [
      "第13个epoch的学习率：0.000095\n",
      "[ Train | 013/030 ] loss = 1.22167\n",
      "Starting epoch 14\n"
     ]
    },
    {
     "name": "stderr",
     "output_type": "stream",
     "text": [
      "100%|██████████| 115/115 [01:50<00:00,  1.04it/s]\n"
     ]
    },
    {
     "name": "stdout",
     "output_type": "stream",
     "text": [
      "第14个epoch的学习率：0.000206\n",
      "[ Train | 014/030 ] loss = 1.25545\n",
      "Starting epoch 15\n"
     ]
    },
    {
     "name": "stderr",
     "output_type": "stream",
     "text": [
      "100%|██████████| 115/115 [01:50<00:00,  1.04it/s]\n"
     ]
    },
    {
     "name": "stdout",
     "output_type": "stream",
     "text": [
      "第15个epoch的学习率：0.000345\n",
      "[ Train | 015/030 ] loss = 1.30567\n",
      "Starting epoch 16\n"
     ]
    },
    {
     "name": "stderr",
     "output_type": "stream",
     "text": [
      "100%|██████████| 115/115 [01:50<00:00,  1.04it/s]\n"
     ]
    },
    {
     "name": "stdout",
     "output_type": "stream",
     "text": [
      "第16个epoch的学习率：0.000500\n",
      "[ Train | 016/030 ] loss = 1.37937\n",
      "Starting epoch 17\n"
     ]
    },
    {
     "name": "stderr",
     "output_type": "stream",
     "text": [
      "100%|██████████| 115/115 [01:50<00:00,  1.04it/s]\n"
     ]
    },
    {
     "name": "stdout",
     "output_type": "stream",
     "text": [
      "第17个epoch的学习率：0.000655\n",
      "[ Train | 017/030 ] loss = 1.43421\n",
      "Starting epoch 18\n"
     ]
    },
    {
     "name": "stderr",
     "output_type": "stream",
     "text": [
      "100%|██████████| 115/115 [01:50<00:00,  1.04it/s]\n"
     ]
    },
    {
     "name": "stdout",
     "output_type": "stream",
     "text": [
      "第18个epoch的学习率：0.000794\n",
      "[ Train | 018/030 ] loss = 1.50326\n",
      "Starting epoch 19\n"
     ]
    },
    {
     "name": "stderr",
     "output_type": "stream",
     "text": [
      "100%|██████████| 115/115 [01:50<00:00,  1.04it/s]\n"
     ]
    },
    {
     "name": "stdout",
     "output_type": "stream",
     "text": [
      "第19个epoch的学习率：0.000905\n",
      "[ Train | 019/030 ] loss = 1.49075\n",
      "Starting epoch 20\n"
     ]
    },
    {
     "name": "stderr",
     "output_type": "stream",
     "text": [
      "100%|██████████| 115/115 [01:50<00:00,  1.04it/s]\n"
     ]
    },
    {
     "name": "stdout",
     "output_type": "stream",
     "text": [
      "第20个epoch的学习率：0.000976\n",
      "[ Train | 020/030 ] loss = 1.49233\n",
      "Starting epoch 21\n"
     ]
    },
    {
     "name": "stderr",
     "output_type": "stream",
     "text": [
      "100%|██████████| 115/115 [01:49<00:00,  1.05it/s]\n"
     ]
    },
    {
     "name": "stdout",
     "output_type": "stream",
     "text": [
      "第21个epoch的学习率：0.001000\n",
      "[ Train | 021/030 ] loss = 1.45524\n",
      "Starting epoch 22\n"
     ]
    },
    {
     "name": "stderr",
     "output_type": "stream",
     "text": [
      "100%|██████████| 115/115 [01:50<00:00,  1.04it/s]\n"
     ]
    },
    {
     "name": "stdout",
     "output_type": "stream",
     "text": [
      "第22个epoch的学习率：0.000976\n",
      "[ Train | 022/030 ] loss = 1.37999\n",
      "Starting epoch 23\n"
     ]
    },
    {
     "name": "stderr",
     "output_type": "stream",
     "text": [
      "100%|██████████| 115/115 [01:51<00:00,  1.03it/s]\n"
     ]
    },
    {
     "name": "stdout",
     "output_type": "stream",
     "text": [
      "第23个epoch的学习率：0.000905\n",
      "[ Train | 023/030 ] loss = 1.35051\n",
      "Starting epoch 24\n"
     ]
    },
    {
     "name": "stderr",
     "output_type": "stream",
     "text": [
      "100%|██████████| 115/115 [01:50<00:00,  1.04it/s]\n"
     ]
    },
    {
     "name": "stdout",
     "output_type": "stream",
     "text": [
      "第24个epoch的学习率：0.000794\n",
      "[ Train | 024/030 ] loss = 1.26871\n",
      "Starting epoch 25\n"
     ]
    },
    {
     "name": "stderr",
     "output_type": "stream",
     "text": [
      "100%|██████████| 115/115 [01:50<00:00,  1.04it/s]\n"
     ]
    },
    {
     "name": "stdout",
     "output_type": "stream",
     "text": [
      "第25个epoch的学习率：0.000655\n",
      "[ Train | 025/030 ] loss = 1.21314\n",
      "Starting epoch 26\n"
     ]
    },
    {
     "name": "stderr",
     "output_type": "stream",
     "text": [
      "100%|██████████| 115/115 [01:50<00:00,  1.04it/s]\n"
     ]
    },
    {
     "name": "stdout",
     "output_type": "stream",
     "text": [
      "第26个epoch的学习率：0.000500\n",
      "[ Train | 026/030 ] loss = 1.14141\n",
      "Starting epoch 27\n"
     ]
    },
    {
     "name": "stderr",
     "output_type": "stream",
     "text": [
      "100%|██████████| 115/115 [01:50<00:00,  1.04it/s]\n"
     ]
    },
    {
     "name": "stdout",
     "output_type": "stream",
     "text": [
      "第27个epoch的学习率：0.000345\n",
      "[ Train | 027/030 ] loss = 1.08404\n",
      "Starting epoch 28\n"
     ]
    },
    {
     "name": "stderr",
     "output_type": "stream",
     "text": [
      "100%|██████████| 115/115 [01:50<00:00,  1.04it/s]\n"
     ]
    },
    {
     "name": "stdout",
     "output_type": "stream",
     "text": [
      "第28个epoch的学习率：0.000206\n",
      "[ Train | 028/030 ] loss = 1.04071\n",
      "Starting epoch 29\n"
     ]
    },
    {
     "name": "stderr",
     "output_type": "stream",
     "text": [
      "100%|██████████| 115/115 [01:50<00:00,  1.04it/s]\n"
     ]
    },
    {
     "name": "stdout",
     "output_type": "stream",
     "text": [
      "第29个epoch的学习率：0.000095\n",
      "[ Train | 029/030 ] loss = 0.99960\n",
      "Starting epoch 30\n"
     ]
    },
    {
     "name": "stderr",
     "output_type": "stream",
     "text": [
      "100%|██████████| 115/115 [01:51<00:00,  1.04it/s]\n"
     ]
    },
    {
     "name": "stdout",
     "output_type": "stream",
     "text": [
      "第30个epoch的学习率：0.000024\n",
      "[ Train | 030/030 ] loss = 0.98544\n",
      "Training process has finished. Saving trained model.\n",
      "Starting validation\n",
      "saving model with loss 0.985\n"
     ]
    },
    {
     "name": "stderr",
     "output_type": "stream",
     "text": [
      "100%|██████████| 29/29 [00:10<00:00,  2.86it/s]\n"
     ]
    },
    {
     "name": "stdout",
     "output_type": "stream",
     "text": [
      "[ Valid | 030/030 ] loss = 0.04342, acc = 0.98518\n",
      "Accuracy for fold 2: 0\n",
      "--------------------------------------\n",
      "FOLD 3\n",
      "--------------------------------------\n",
      "Starting epoch 1\n"
     ]
    },
    {
     "name": "stderr",
     "output_type": "stream",
     "text": [
      "100%|██████████| 115/115 [01:51<00:00,  1.04it/s]\n"
     ]
    },
    {
     "name": "stdout",
     "output_type": "stream",
     "text": [
      "第1个epoch的学习率：0.001000\n",
      "[ Train | 001/030 ] loss = 3.53571\n",
      "Starting epoch 2\n"
     ]
    },
    {
     "name": "stderr",
     "output_type": "stream",
     "text": [
      "100%|██████████| 115/115 [01:50<00:00,  1.04it/s]\n"
     ]
    },
    {
     "name": "stdout",
     "output_type": "stream",
     "text": [
      "第2个epoch的学习率：0.000976\n",
      "[ Train | 002/030 ] loss = 2.54912\n",
      "Starting epoch 3\n"
     ]
    },
    {
     "name": "stderr",
     "output_type": "stream",
     "text": [
      "100%|██████████| 115/115 [01:50<00:00,  1.04it/s]\n"
     ]
    },
    {
     "name": "stdout",
     "output_type": "stream",
     "text": [
      "第3个epoch的学习率：0.000905\n",
      "[ Train | 003/030 ] loss = 2.14895\n",
      "Starting epoch 4\n"
     ]
    },
    {
     "name": "stderr",
     "output_type": "stream",
     "text": [
      "100%|██████████| 115/115 [01:50<00:00,  1.04it/s]\n"
     ]
    },
    {
     "name": "stdout",
     "output_type": "stream",
     "text": [
      "第4个epoch的学习率：0.000794\n",
      "[ Train | 004/030 ] loss = 1.91861\n",
      "Starting epoch 5\n"
     ]
    },
    {
     "name": "stderr",
     "output_type": "stream",
     "text": [
      "100%|██████████| 115/115 [01:50<00:00,  1.04it/s]\n"
     ]
    },
    {
     "name": "stdout",
     "output_type": "stream",
     "text": [
      "第5个epoch的学习率：0.000655\n",
      "[ Train | 005/030 ] loss = 1.72534\n",
      "Starting epoch 6\n"
     ]
    },
    {
     "name": "stderr",
     "output_type": "stream",
     "text": [
      "100%|██████████| 115/115 [01:51<00:00,  1.03it/s]\n"
     ]
    },
    {
     "name": "stdout",
     "output_type": "stream",
     "text": [
      "第6个epoch的学习率：0.000500\n",
      "[ Train | 006/030 ] loss = 1.56850\n",
      "Starting epoch 7\n"
     ]
    },
    {
     "name": "stderr",
     "output_type": "stream",
     "text": [
      "100%|██████████| 115/115 [01:51<00:00,  1.03it/s]\n"
     ]
    },
    {
     "name": "stdout",
     "output_type": "stream",
     "text": [
      "第7个epoch的学习率：0.000345\n",
      "[ Train | 007/030 ] loss = 1.46166\n",
      "Starting epoch 8\n"
     ]
    },
    {
     "name": "stderr",
     "output_type": "stream",
     "text": [
      "100%|██████████| 115/115 [01:51<00:00,  1.04it/s]\n"
     ]
    },
    {
     "name": "stdout",
     "output_type": "stream",
     "text": [
      "第8个epoch的学习率：0.000206\n",
      "[ Train | 008/030 ] loss = 1.35660\n",
      "Starting epoch 9\n"
     ]
    },
    {
     "name": "stderr",
     "output_type": "stream",
     "text": [
      "100%|██████████| 115/115 [01:51<00:00,  1.04it/s]\n"
     ]
    },
    {
     "name": "stdout",
     "output_type": "stream",
     "text": [
      "第9个epoch的学习率：0.000095\n",
      "[ Train | 009/030 ] loss = 1.27095\n",
      "Starting epoch 10\n"
     ]
    },
    {
     "name": "stderr",
     "output_type": "stream",
     "text": [
      "100%|██████████| 115/115 [01:50<00:00,  1.04it/s]\n"
     ]
    },
    {
     "name": "stdout",
     "output_type": "stream",
     "text": [
      "第10个epoch的学习率：0.000024\n",
      "[ Train | 010/030 ] loss = 1.23797\n",
      "Starting epoch 11\n"
     ]
    },
    {
     "name": "stderr",
     "output_type": "stream",
     "text": [
      "100%|██████████| 115/115 [01:50<00:00,  1.04it/s]\n"
     ]
    },
    {
     "name": "stdout",
     "output_type": "stream",
     "text": [
      "第11个epoch的学习率：0.000000\n",
      "[ Train | 011/030 ] loss = 1.22076\n",
      "Starting epoch 12\n"
     ]
    },
    {
     "name": "stderr",
     "output_type": "stream",
     "text": [
      "100%|██████████| 115/115 [01:50<00:00,  1.04it/s]\n"
     ]
    },
    {
     "name": "stdout",
     "output_type": "stream",
     "text": [
      "第12个epoch的学习率：0.000024\n",
      "[ Train | 012/030 ] loss = 1.21044\n",
      "Starting epoch 13\n"
     ]
    },
    {
     "name": "stderr",
     "output_type": "stream",
     "text": [
      "100%|██████████| 115/115 [01:50<00:00,  1.04it/s]\n"
     ]
    },
    {
     "name": "stdout",
     "output_type": "stream",
     "text": [
      "第13个epoch的学习率：0.000095\n",
      "[ Train | 013/030 ] loss = 1.20904\n",
      "Starting epoch 14\n"
     ]
    },
    {
     "name": "stderr",
     "output_type": "stream",
     "text": [
      "100%|██████████| 115/115 [01:51<00:00,  1.04it/s]\n"
     ]
    },
    {
     "name": "stdout",
     "output_type": "stream",
     "text": [
      "第14个epoch的学习率：0.000206\n",
      "[ Train | 014/030 ] loss = 1.25545\n",
      "Starting epoch 15\n"
     ]
    },
    {
     "name": "stderr",
     "output_type": "stream",
     "text": [
      "100%|██████████| 115/115 [01:50<00:00,  1.04it/s]\n"
     ]
    },
    {
     "name": "stdout",
     "output_type": "stream",
     "text": [
      "第15个epoch的学习率：0.000345\n",
      "[ Train | 015/030 ] loss = 1.31584\n",
      "Starting epoch 16\n"
     ]
    },
    {
     "name": "stderr",
     "output_type": "stream",
     "text": [
      "100%|██████████| 115/115 [01:50<00:00,  1.04it/s]\n"
     ]
    },
    {
     "name": "stdout",
     "output_type": "stream",
     "text": [
      "第16个epoch的学习率：0.000500\n",
      "[ Train | 016/030 ] loss = 1.38042\n",
      "Starting epoch 17\n"
     ]
    },
    {
     "name": "stderr",
     "output_type": "stream",
     "text": [
      "100%|██████████| 115/115 [01:50<00:00,  1.04it/s]\n"
     ]
    },
    {
     "name": "stdout",
     "output_type": "stream",
     "text": [
      "第17个epoch的学习率：0.000655\n",
      "[ Train | 017/030 ] loss = 1.43744\n",
      "Starting epoch 18\n"
     ]
    },
    {
     "name": "stderr",
     "output_type": "stream",
     "text": [
      "100%|██████████| 115/115 [01:50<00:00,  1.04it/s]\n"
     ]
    },
    {
     "name": "stdout",
     "output_type": "stream",
     "text": [
      "第18个epoch的学习率：0.000794\n",
      "[ Train | 018/030 ] loss = 1.49954\n",
      "Starting epoch 19\n"
     ]
    },
    {
     "name": "stderr",
     "output_type": "stream",
     "text": [
      "100%|██████████| 115/115 [01:50<00:00,  1.04it/s]\n"
     ]
    },
    {
     "name": "stdout",
     "output_type": "stream",
     "text": [
      "第19个epoch的学习率：0.000905\n",
      "[ Train | 019/030 ] loss = 1.52706\n",
      "Starting epoch 20\n"
     ]
    },
    {
     "name": "stderr",
     "output_type": "stream",
     "text": [
      "100%|██████████| 115/115 [01:50<00:00,  1.04it/s]\n"
     ]
    },
    {
     "name": "stdout",
     "output_type": "stream",
     "text": [
      "第20个epoch的学习率：0.000976\n",
      "[ Train | 020/030 ] loss = 1.48923\n",
      "Starting epoch 21\n"
     ]
    },
    {
     "name": "stderr",
     "output_type": "stream",
     "text": [
      "100%|██████████| 115/115 [01:51<00:00,  1.03it/s]\n"
     ]
    },
    {
     "name": "stdout",
     "output_type": "stream",
     "text": [
      "第21个epoch的学习率：0.001000\n",
      "[ Train | 021/030 ] loss = 1.45274\n",
      "Starting epoch 22\n"
     ]
    },
    {
     "name": "stderr",
     "output_type": "stream",
     "text": [
      "100%|██████████| 115/115 [01:50<00:00,  1.04it/s]\n"
     ]
    },
    {
     "name": "stdout",
     "output_type": "stream",
     "text": [
      "第22个epoch的学习率：0.000976\n",
      "[ Train | 022/030 ] loss = 1.39247\n",
      "Starting epoch 23\n"
     ]
    },
    {
     "name": "stderr",
     "output_type": "stream",
     "text": [
      "100%|██████████| 115/115 [01:50<00:00,  1.04it/s]\n"
     ]
    },
    {
     "name": "stdout",
     "output_type": "stream",
     "text": [
      "第23个epoch的学习率：0.000905\n",
      "[ Train | 023/030 ] loss = 1.33838\n",
      "Starting epoch 24\n"
     ]
    },
    {
     "name": "stderr",
     "output_type": "stream",
     "text": [
      "100%|██████████| 115/115 [01:50<00:00,  1.04it/s]\n"
     ]
    },
    {
     "name": "stdout",
     "output_type": "stream",
     "text": [
      "第24个epoch的学习率：0.000794\n",
      "[ Train | 024/030 ] loss = 1.25507\n",
      "Starting epoch 25\n"
     ]
    },
    {
     "name": "stderr",
     "output_type": "stream",
     "text": [
      "100%|██████████| 115/115 [01:50<00:00,  1.04it/s]\n"
     ]
    },
    {
     "name": "stdout",
     "output_type": "stream",
     "text": [
      "第25个epoch的学习率：0.000655\n",
      "[ Train | 025/030 ] loss = 1.18677\n",
      "Starting epoch 26\n"
     ]
    },
    {
     "name": "stderr",
     "output_type": "stream",
     "text": [
      "100%|██████████| 115/115 [01:50<00:00,  1.04it/s]\n"
     ]
    },
    {
     "name": "stdout",
     "output_type": "stream",
     "text": [
      "第26个epoch的学习率：0.000500\n",
      "[ Train | 026/030 ] loss = 1.14680\n",
      "Starting epoch 27\n"
     ]
    },
    {
     "name": "stderr",
     "output_type": "stream",
     "text": [
      "100%|██████████| 115/115 [01:50<00:00,  1.04it/s]\n"
     ]
    },
    {
     "name": "stdout",
     "output_type": "stream",
     "text": [
      "第27个epoch的学习率：0.000345\n",
      "[ Train | 027/030 ] loss = 1.08004\n",
      "Starting epoch 28\n"
     ]
    },
    {
     "name": "stderr",
     "output_type": "stream",
     "text": [
      "100%|██████████| 115/115 [01:50<00:00,  1.04it/s]\n"
     ]
    },
    {
     "name": "stdout",
     "output_type": "stream",
     "text": [
      "第28个epoch的学习率：0.000206\n",
      "[ Train | 028/030 ] loss = 1.03340\n",
      "Starting epoch 29\n"
     ]
    },
    {
     "name": "stderr",
     "output_type": "stream",
     "text": [
      "100%|██████████| 115/115 [01:50<00:00,  1.04it/s]\n"
     ]
    },
    {
     "name": "stdout",
     "output_type": "stream",
     "text": [
      "第29个epoch的学习率：0.000095\n",
      "[ Train | 029/030 ] loss = 1.00141\n",
      "Starting epoch 30\n"
     ]
    },
    {
     "name": "stderr",
     "output_type": "stream",
     "text": [
      "100%|██████████| 115/115 [01:51<00:00,  1.03it/s]\n"
     ]
    },
    {
     "name": "stdout",
     "output_type": "stream",
     "text": [
      "第30个epoch的学习率：0.000024\n",
      "[ Train | 030/030 ] loss = 0.99294\n",
      "Training process has finished. Saving trained model.\n",
      "Starting validation\n",
      "saving model with loss 0.993\n"
     ]
    },
    {
     "name": "stderr",
     "output_type": "stream",
     "text": [
      "100%|██████████| 29/29 [00:10<00:00,  2.86it/s]\n"
     ]
    },
    {
     "name": "stdout",
     "output_type": "stream",
     "text": [
      "[ Valid | 030/030 ] loss = 0.03950, acc = 0.98572\n",
      "Accuracy for fold 3: 0\n",
      "--------------------------------------\n",
      "FOLD 4\n",
      "--------------------------------------\n",
      "Starting epoch 1\n"
     ]
    },
    {
     "name": "stderr",
     "output_type": "stream",
     "text": [
      "100%|██████████| 115/115 [01:50<00:00,  1.04it/s]\n"
     ]
    },
    {
     "name": "stdout",
     "output_type": "stream",
     "text": [
      "第1个epoch的学习率：0.001000\n",
      "[ Train | 001/030 ] loss = 3.65129\n",
      "Starting epoch 2\n"
     ]
    },
    {
     "name": "stderr",
     "output_type": "stream",
     "text": [
      "100%|██████████| 115/115 [01:50<00:00,  1.04it/s]\n"
     ]
    },
    {
     "name": "stdout",
     "output_type": "stream",
     "text": [
      "第2个epoch的学习率：0.000976\n",
      "[ Train | 002/030 ] loss = 2.60312\n",
      "Starting epoch 3\n"
     ]
    },
    {
     "name": "stderr",
     "output_type": "stream",
     "text": [
      "100%|██████████| 115/115 [01:50<00:00,  1.04it/s]\n"
     ]
    },
    {
     "name": "stdout",
     "output_type": "stream",
     "text": [
      "第3个epoch的学习率：0.000905\n",
      "[ Train | 003/030 ] loss = 2.22406\n",
      "Starting epoch 4\n"
     ]
    },
    {
     "name": "stderr",
     "output_type": "stream",
     "text": [
      "100%|██████████| 115/115 [01:50<00:00,  1.04it/s]\n"
     ]
    },
    {
     "name": "stdout",
     "output_type": "stream",
     "text": [
      "第4个epoch的学习率：0.000794\n",
      "[ Train | 004/030 ] loss = 1.92438\n",
      "Starting epoch 5\n"
     ]
    },
    {
     "name": "stderr",
     "output_type": "stream",
     "text": [
      "100%|██████████| 115/115 [01:50<00:00,  1.04it/s]\n"
     ]
    },
    {
     "name": "stdout",
     "output_type": "stream",
     "text": [
      "第5个epoch的学习率：0.000655\n",
      "[ Train | 005/030 ] loss = 1.75138\n",
      "Starting epoch 6\n"
     ]
    },
    {
     "name": "stderr",
     "output_type": "stream",
     "text": [
      "100%|██████████| 115/115 [01:49<00:00,  1.05it/s]\n"
     ]
    },
    {
     "name": "stdout",
     "output_type": "stream",
     "text": [
      "第6个epoch的学习率：0.000500\n",
      "[ Train | 006/030 ] loss = 1.57181\n",
      "Starting epoch 7\n"
     ]
    },
    {
     "name": "stderr",
     "output_type": "stream",
     "text": [
      "100%|██████████| 115/115 [01:49<00:00,  1.05it/s]\n"
     ]
    },
    {
     "name": "stdout",
     "output_type": "stream",
     "text": [
      "第7个epoch的学习率：0.000345\n",
      "[ Train | 007/030 ] loss = 1.46642\n",
      "Starting epoch 8\n"
     ]
    },
    {
     "name": "stderr",
     "output_type": "stream",
     "text": [
      "100%|██████████| 115/115 [01:51<00:00,  1.04it/s]\n"
     ]
    },
    {
     "name": "stdout",
     "output_type": "stream",
     "text": [
      "第8个epoch的学习率：0.000206\n",
      "[ Train | 008/030 ] loss = 1.36715\n",
      "Starting epoch 9\n"
     ]
    },
    {
     "name": "stderr",
     "output_type": "stream",
     "text": [
      "100%|██████████| 115/115 [01:50<00:00,  1.04it/s]\n"
     ]
    },
    {
     "name": "stdout",
     "output_type": "stream",
     "text": [
      "第9个epoch的学习率：0.000095\n",
      "[ Train | 009/030 ] loss = 1.30854\n",
      "Starting epoch 10\n"
     ]
    },
    {
     "name": "stderr",
     "output_type": "stream",
     "text": [
      "100%|██████████| 115/115 [01:51<00:00,  1.04it/s]\n"
     ]
    },
    {
     "name": "stdout",
     "output_type": "stream",
     "text": [
      "第10个epoch的学习率：0.000024\n",
      "[ Train | 010/030 ] loss = 1.25276\n",
      "Starting epoch 11\n"
     ]
    },
    {
     "name": "stderr",
     "output_type": "stream",
     "text": [
      "100%|██████████| 115/115 [01:50<00:00,  1.04it/s]\n"
     ]
    },
    {
     "name": "stdout",
     "output_type": "stream",
     "text": [
      "第11个epoch的学习率：0.000000\n",
      "[ Train | 011/030 ] loss = 1.24353\n",
      "Starting epoch 12\n"
     ]
    },
    {
     "name": "stderr",
     "output_type": "stream",
     "text": [
      "100%|██████████| 115/115 [01:50<00:00,  1.04it/s]\n"
     ]
    },
    {
     "name": "stdout",
     "output_type": "stream",
     "text": [
      "第12个epoch的学习率：0.000024\n",
      "[ Train | 012/030 ] loss = 1.25907\n",
      "Starting epoch 13\n"
     ]
    },
    {
     "name": "stderr",
     "output_type": "stream",
     "text": [
      "100%|██████████| 115/115 [01:50<00:00,  1.04it/s]\n"
     ]
    },
    {
     "name": "stdout",
     "output_type": "stream",
     "text": [
      "第13个epoch的学习率：0.000095\n",
      "[ Train | 013/030 ] loss = 1.24360\n",
      "Starting epoch 14\n"
     ]
    },
    {
     "name": "stderr",
     "output_type": "stream",
     "text": [
      "100%|██████████| 115/115 [01:50<00:00,  1.04it/s]\n"
     ]
    },
    {
     "name": "stdout",
     "output_type": "stream",
     "text": [
      "第14个epoch的学习率：0.000206\n",
      "[ Train | 014/030 ] loss = 1.26261\n",
      "Starting epoch 15\n"
     ]
    },
    {
     "name": "stderr",
     "output_type": "stream",
     "text": [
      "100%|██████████| 115/115 [01:50<00:00,  1.04it/s]\n"
     ]
    },
    {
     "name": "stdout",
     "output_type": "stream",
     "text": [
      "第15个epoch的学习率：0.000345\n",
      "[ Train | 015/030 ] loss = 1.33115\n",
      "Starting epoch 16\n"
     ]
    },
    {
     "name": "stderr",
     "output_type": "stream",
     "text": [
      "100%|██████████| 115/115 [01:50<00:00,  1.04it/s]\n"
     ]
    },
    {
     "name": "stdout",
     "output_type": "stream",
     "text": [
      "第16个epoch的学习率：0.000500\n",
      "[ Train | 016/030 ] loss = 1.39042\n",
      "Starting epoch 17\n"
     ]
    },
    {
     "name": "stderr",
     "output_type": "stream",
     "text": [
      "100%|██████████| 115/115 [01:50<00:00,  1.04it/s]\n"
     ]
    },
    {
     "name": "stdout",
     "output_type": "stream",
     "text": [
      "第17个epoch的学习率：0.000655\n",
      "[ Train | 017/030 ] loss = 1.45565\n",
      "Starting epoch 18\n"
     ]
    },
    {
     "name": "stderr",
     "output_type": "stream",
     "text": [
      "100%|██████████| 115/115 [01:50<00:00,  1.04it/s]\n"
     ]
    },
    {
     "name": "stdout",
     "output_type": "stream",
     "text": [
      "第18个epoch的学习率：0.000794\n",
      "[ Train | 018/030 ] loss = 1.50869\n",
      "Starting epoch 19\n"
     ]
    },
    {
     "name": "stderr",
     "output_type": "stream",
     "text": [
      "100%|██████████| 115/115 [01:50<00:00,  1.04it/s]\n"
     ]
    },
    {
     "name": "stdout",
     "output_type": "stream",
     "text": [
      "第19个epoch的学习率：0.000905\n",
      "[ Train | 019/030 ] loss = 1.52496\n",
      "Starting epoch 20\n"
     ]
    },
    {
     "name": "stderr",
     "output_type": "stream",
     "text": [
      "100%|██████████| 115/115 [01:50<00:00,  1.04it/s]\n"
     ]
    },
    {
     "name": "stdout",
     "output_type": "stream",
     "text": [
      "第20个epoch的学习率：0.000976\n",
      "[ Train | 020/030 ] loss = 1.48480\n",
      "Starting epoch 21\n"
     ]
    },
    {
     "name": "stderr",
     "output_type": "stream",
     "text": [
      "100%|██████████| 115/115 [01:50<00:00,  1.04it/s]\n"
     ]
    },
    {
     "name": "stdout",
     "output_type": "stream",
     "text": [
      "第21个epoch的学习率：0.001000\n",
      "[ Train | 021/030 ] loss = 1.44696\n",
      "Starting epoch 22\n"
     ]
    },
    {
     "name": "stderr",
     "output_type": "stream",
     "text": [
      "100%|██████████| 115/115 [01:50<00:00,  1.04it/s]\n"
     ]
    },
    {
     "name": "stdout",
     "output_type": "stream",
     "text": [
      "第22个epoch的学习率：0.000976\n",
      "[ Train | 022/030 ] loss = 1.39549\n",
      "Starting epoch 23\n"
     ]
    },
    {
     "name": "stderr",
     "output_type": "stream",
     "text": [
      "100%|██████████| 115/115 [01:50<00:00,  1.04it/s]\n"
     ]
    },
    {
     "name": "stdout",
     "output_type": "stream",
     "text": [
      "第23个epoch的学习率：0.000905\n",
      "[ Train | 023/030 ] loss = 1.34665\n",
      "Starting epoch 24\n"
     ]
    },
    {
     "name": "stderr",
     "output_type": "stream",
     "text": [
      "100%|██████████| 115/115 [01:51<00:00,  1.04it/s]\n"
     ]
    },
    {
     "name": "stdout",
     "output_type": "stream",
     "text": [
      "第24个epoch的学习率：0.000794\n",
      "[ Train | 024/030 ] loss = 1.28069\n",
      "Starting epoch 25\n"
     ]
    },
    {
     "name": "stderr",
     "output_type": "stream",
     "text": [
      "100%|██████████| 115/115 [01:50<00:00,  1.04it/s]\n"
     ]
    },
    {
     "name": "stdout",
     "output_type": "stream",
     "text": [
      "第25个epoch的学习率：0.000655\n",
      "[ Train | 025/030 ] loss = 1.20993\n",
      "Starting epoch 26\n"
     ]
    },
    {
     "name": "stderr",
     "output_type": "stream",
     "text": [
      "100%|██████████| 115/115 [01:50<00:00,  1.04it/s]\n"
     ]
    },
    {
     "name": "stdout",
     "output_type": "stream",
     "text": [
      "第26个epoch的学习率：0.000500\n",
      "[ Train | 026/030 ] loss = 1.15189\n",
      "Starting epoch 27\n"
     ]
    },
    {
     "name": "stderr",
     "output_type": "stream",
     "text": [
      "100%|██████████| 115/115 [01:50<00:00,  1.04it/s]\n"
     ]
    },
    {
     "name": "stdout",
     "output_type": "stream",
     "text": [
      "第27个epoch的学习率：0.000345\n",
      "[ Train | 027/030 ] loss = 1.08488\n",
      "Starting epoch 28\n"
     ]
    },
    {
     "name": "stderr",
     "output_type": "stream",
     "text": [
      "100%|██████████| 115/115 [01:50<00:00,  1.04it/s]\n"
     ]
    },
    {
     "name": "stdout",
     "output_type": "stream",
     "text": [
      "第28个epoch的学习率：0.000206\n",
      "[ Train | 028/030 ] loss = 1.04017\n",
      "Starting epoch 29\n"
     ]
    },
    {
     "name": "stderr",
     "output_type": "stream",
     "text": [
      "100%|██████████| 115/115 [01:50<00:00,  1.04it/s]\n"
     ]
    },
    {
     "name": "stdout",
     "output_type": "stream",
     "text": [
      "第29个epoch的学习率：0.000095\n",
      "[ Train | 029/030 ] loss = 1.01589\n",
      "Starting epoch 30\n"
     ]
    },
    {
     "name": "stderr",
     "output_type": "stream",
     "text": [
      "100%|██████████| 115/115 [01:50<00:00,  1.04it/s]\n"
     ]
    },
    {
     "name": "stdout",
     "output_type": "stream",
     "text": [
      "第30个epoch的学习率：0.000024\n",
      "[ Train | 030/030 ] loss = 0.99554\n",
      "Training process has finished. Saving trained model.\n",
      "Starting validation\n",
      "saving model with loss 0.996\n"
     ]
    },
    {
     "name": "stderr",
     "output_type": "stream",
     "text": [
      "100%|██████████| 29/29 [00:10<00:00,  2.80it/s]\n"
     ]
    },
    {
     "name": "stdout",
     "output_type": "stream",
     "text": [
      "[ Valid | 030/030 ] loss = 0.04532, acc = 0.98761\n",
      "Accuracy for fold 4: 0\n",
      "--------------------------------------\n",
      "K-FOLD CROSS VALIDATION RESULTS FOR 5 FOLDS\n",
      "--------------------------------\n",
      "Fold 0: 0.9771167635917664 \n",
      "Fold 1: 0.9862607717514038 \n",
      "Fold 2: 0.9851831793785095 \n",
      "Fold 3: 0.985722005367279 \n",
      "Fold 4: 0.9876077771186829 \n",
      "Average: 0.9843781590461731 \n"
     ]
    }
   ],
   "source": [
    "# Start print\n",
    "print('--------------------------------------')\n",
    "\n",
    "# K-fold Cross Validation model evaluation\n",
    "for fold, (train_ids,valid_ids) in enumerate(kfold.split(train_val_dataset)):\n",
    "\n",
    "  # Print\n",
    "  print(f'FOLD {fold}')\n",
    "  print('--------------------------------------')\n",
    "\n",
    "  # Sample elements randomly from a given list of ids, no replacement.\n",
    "  train_subsampler = torch.utils.data.SubsetRandomSampler(train_ids)\n",
    "  valid_subsampler = torch.utils.data.SubsetRandomSampler(valid_ids)\n",
    "\n",
    "  # Define data loaders for training and testing data in this fold\n",
    "  trainloader = torch.utils.data.DataLoader(\n",
    "                      CutMix(TrainValidData(train_val_path, img_path, transform = train_transform), num_class=176, beta=1.0, prob=0.5, num_mix=2), \n",
    "                      batch_size=128, sampler=train_subsampler, num_workers=0)\n",
    "  validloader = torch.utils.data.DataLoader(\n",
    "                      TrainValidData(train_val_path, img_path, transform = val_test_transform),\n",
    "                      batch_size=128, sampler=valid_subsampler, num_workers=0)\n",
    "  \n",
    "  # Initialize a model and put it on the device specified.\n",
    "  model = resnext_model(176)\n",
    "  model = model.to(device)\n",
    "  model.device = device\n",
    "  \n",
    "  # Initialize optimizer\n",
    "  optimizer = torch.optim.AdamW(model.parameters(),lr=learning_rate,weight_decay= weight_decay)\n",
    "#   optimizer = SWA(our_optimizer, swa_start=5, swa_freq =5, swa_lr=0.05)\n",
    "  scheduler = CosineAnnealingLR(optimizer,T_max=10)\n",
    "\n",
    "  # Run the training loop for defined number of epochs\n",
    "  for epoch in range(0,num_epochs):\n",
    "    model.train()\n",
    "    # Print epoch\n",
    "    print(f'Starting epoch {epoch+1}')\n",
    "    # These are used to record information in training\n",
    "    train_losses = []\n",
    "    train_accs = []\n",
    "    # Iterate the training set by batches\n",
    "    for batch in tqdm(trainloader):\n",
    "      # Move images and labels to GPU\n",
    "      imgs, labels = batch\n",
    "      imgs = imgs.to(device)\n",
    "      labels = labels.to(device)\n",
    "      # Forward the data\n",
    "      logits = model(imgs)\n",
    "      # Calculate loss\n",
    "      loss = train_loss_function(logits,labels)\n",
    "      # Clear gradients in previous step\n",
    "      optimizer.zero_grad()\n",
    "      # Compute gradients for parameters\n",
    "      loss.backward()\n",
    "      # Update the parameters with computed gradients\n",
    "      optimizer.step()\n",
    "      # Compute the accuracy for current batch.\n",
    "      # acc = (logits.argmax(dim=-1) == labels).float().mean()\n",
    "      # Record the loss and accuracy.\n",
    "      train_losses.append(loss.item())\n",
    "      # train_accs.append(acc)\n",
    "    print(\"第%d个epoch的学习率：%f\" % (epoch+1,optimizer.param_groups[0]['lr']))\n",
    "    scheduler.step()\n",
    "    # The average loss and accuracy of the training set is the average of the recorded values.\n",
    "    train_loss = np.sum(train_losses) / len(train_losses)\n",
    "    # train_acc = np.sum(train_accs) / len(train_accs)\n",
    "    # Print the information.\n",
    "    # print(f\"[ Train | {epoch + 1:03d}/{num_epochs:03d} ] loss = {train_loss:.5f}, acc = {train_acc:.5f}\")\n",
    "    print(f\"[ Train | {epoch + 1:03d}/{num_epochs:03d} ] loss = {train_loss:.5f}\")\n",
    "\n",
    "  # Train process (all epochs) is complete\n",
    "  print('Training process has finished. Saving trained model.')\n",
    "  print('Starting validation')\n",
    "\n",
    "  # Saving the model\n",
    "  print('saving model with loss {:.3f}'.format(train_loss))\n",
    "  save_path = f'./model-fold-{fold}.pth'\n",
    "  torch.save(model.state_dict(),save_path)\n",
    "  # Start Validation\n",
    "  model.eval()\n",
    "  valid_losses = []\n",
    "  valid_accs = []\n",
    "  with torch.no_grad():\n",
    "    for batch in tqdm(validloader):\n",
    "      imgs, labels = batch\n",
    "      # No gradient in validation\n",
    "      logits = model(imgs.to(device))\n",
    "      loss = valid_loss_function(logits,labels.to(device))\n",
    "      acc = (logits.argmax(dim=-1) == labels.to(device)).float().mean()\n",
    "      # Record loss and accuracy\n",
    "      valid_losses.append(loss.item())        \n",
    "      valid_accs.append(acc)\n",
    "    # The average loss and accuracy\n",
    "    valid_loss = np.sum(valid_losses)/len(valid_losses)\n",
    "    valid_acc = np.sum(valid_accs)/len(valid_accs)\n",
    "    print(f\"[ Valid | {epoch + 1:03d}/{num_epochs:03d} ] loss = {valid_loss:.5f}, acc = {valid_acc:.5f}\")\n",
    "    print('Accuracy for fold %d: %d' % (fold, valid_acc))\n",
    "    print('--------------------------------------')\n",
    "    results[fold] = valid_acc\n",
    "# Print fold results\n",
    "print(f'K-FOLD CROSS VALIDATION RESULTS FOR {k_folds} FOLDS')\n",
    "print('--------------------------------')\n",
    "total_summation = 0.0\n",
    "for key, value in results.items():\n",
    "  print(f'Fold {key}: {value} ')\n",
    "  total_summation += value\n",
    "print(f'Average: {total_summation/len(results.items())} ')"
   ]
  },
  {
   "cell_type": "markdown",
   "metadata": {
    "id": "4eQyBuNbOHzy"
   },
   "source": [
    "### **预测**"
   ]
  },
  {
   "cell_type": "code",
   "execution_count": 18,
   "metadata": {
    "id": "aoUIdMxGXNk-"
   },
   "outputs": [],
   "source": [
    "testloader = torch.utils.data.DataLoader(\n",
    "                      TestData(test_path, img_path, transform = val_test_transform),\n",
    "                      batch_size=128, num_workers=0)"
   ]
  },
  {
   "cell_type": "code",
   "execution_count": 19,
   "metadata": {
    "colab": {
     "base_uri": "https://localhost:8080/"
    },
    "id": "0l-USFxpOYty",
    "outputId": "58135fa6-91e0-4e11-ecaa-0fe3a9fcc88e"
   },
   "outputs": [
    {
     "name": "stderr",
     "output_type": "stream",
     "text": [
      "100%|██████████| 69/69 [01:16<00:00,  1.11s/it]\n"
     ]
    },
    {
     "name": "stdout",
     "output_type": "stream",
     "text": [
      "ResNeXt Model Results Done!!!!!!!!!!!!!!!!!!!!!!!!!!!\n"
     ]
    },
    {
     "name": "stderr",
     "output_type": "stream",
     "text": [
      "100%|██████████| 69/69 [01:01<00:00,  1.12it/s]\n"
     ]
    },
    {
     "name": "stdout",
     "output_type": "stream",
     "text": [
      "ResNeXt Model Results Done!!!!!!!!!!!!!!!!!!!!!!!!!!!\n"
     ]
    },
    {
     "name": "stderr",
     "output_type": "stream",
     "text": [
      "100%|██████████| 69/69 [01:02<00:00,  1.11it/s]\n"
     ]
    },
    {
     "name": "stdout",
     "output_type": "stream",
     "text": [
      "ResNeXt Model Results Done!!!!!!!!!!!!!!!!!!!!!!!!!!!\n"
     ]
    },
    {
     "name": "stderr",
     "output_type": "stream",
     "text": [
      "100%|██████████| 69/69 [01:02<00:00,  1.11it/s]\n"
     ]
    },
    {
     "name": "stdout",
     "output_type": "stream",
     "text": [
      "ResNeXt Model Results Done!!!!!!!!!!!!!!!!!!!!!!!!!!!\n"
     ]
    },
    {
     "name": "stderr",
     "output_type": "stream",
     "text": [
      "100%|██████████| 69/69 [01:01<00:00,  1.12it/s]\n"
     ]
    },
    {
     "name": "stdout",
     "output_type": "stream",
     "text": [
      "ResNeXt Model Results Done!!!!!!!!!!!!!!!!!!!!!!!!!!!\n"
     ]
    }
   ],
   "source": [
    "## predict\n",
    "model = resnext_model(176)\n",
    "\n",
    "# create model and load weights from checkpoint\n",
    "model = model.to(device)\n",
    "# load the all folds\n",
    "for test_fold in range(k_folds):\n",
    "  model_path = f'./model-fold-{test_fold}.pth'\n",
    "  saveFileName = f'./submission-fold-{test_fold}.csv'\n",
    "  model.load_state_dict(torch.load(model_path))\n",
    "\n",
    "  # Make sure the model is in eval mode.\n",
    "  # Some modules like Dropout or BatchNorm affect if the model is in training mode.\n",
    "  model.eval()\n",
    "  tta_model = tta.ClassificationTTAWrapper(model, tta.aliases.five_crop_transform(200,200))\n",
    "\n",
    "  # Initialize a list to store the predictions.\n",
    "  predictions = []\n",
    "  # Iterate the testing set by batches.\n",
    "  for batch in tqdm(testloader):\n",
    "      \n",
    "      imgs = batch\n",
    "      with torch.no_grad():\n",
    "          logits = tta_model(imgs.to(device))\n",
    "      \n",
    "      # Take the class with greatest logit as prediction and record it.\n",
    "      predictions.extend(logits.argmax(dim=-1).cpu().numpy().tolist())\n",
    "\n",
    "  preds = []\n",
    "  for i in predictions:\n",
    "      preds.append(num_to_class[i])\n",
    "\n",
    "  test_data = pd.read_csv(test_path)\n",
    "  test_data['label'] = pd.Series(preds)\n",
    "  submission = pd.concat([test_data['image'], test_data['label']], axis=1)\n",
    "  submission.to_csv(saveFileName, index=False)\n",
    "  print(\"ResNeXt Model Results Done!!!!!!!!!!!!!!!!!!!!!!!!!!!\")"
   ]
  },
  {
   "cell_type": "markdown",
   "metadata": {
    "id": "IjIr3i27APLP"
   },
   "source": [
    "### **最终投票Bagging**"
   ]
  },
  {
   "cell_type": "code",
   "execution_count": 20,
   "metadata": {
    "id": "PKieA1DR7j1d"
   },
   "outputs": [],
   "source": [
    "df0 = pd.read_csv('./submission-fold-0.csv')\n",
    "df1 = pd.read_csv('./submission-fold-1.csv')\n",
    "df2 = pd.read_csv('./submission-fold-2.csv')\n",
    "df3 = pd.read_csv('./submission-fold-3.csv')\n",
    "df4 = pd.read_csv('./submission-fold-4.csv')"
   ]
  },
  {
   "cell_type": "code",
   "execution_count": 21,
   "metadata": {
    "colab": {
     "base_uri": "https://localhost:8080/",
     "height": 204
    },
    "id": "HukZ6ikN8ODD",
    "outputId": "16442d08-71d3-44d2-85da-8387212051c9"
   },
   "outputs": [
    {
     "data": {
      "text/html": [
       "<div>\n",
       "<style scoped>\n",
       "    .dataframe tbody tr th:only-of-type {\n",
       "        vertical-align: middle;\n",
       "    }\n",
       "\n",
       "    .dataframe tbody tr th {\n",
       "        vertical-align: top;\n",
       "    }\n",
       "\n",
       "    .dataframe thead th {\n",
       "        text-align: right;\n",
       "    }\n",
       "</style>\n",
       "<table border=\"1\" class=\"dataframe\">\n",
       "  <thead>\n",
       "    <tr style=\"text-align: right;\">\n",
       "      <th></th>\n",
       "      <th>image</th>\n",
       "      <th>label</th>\n",
       "      <th>num_label0</th>\n",
       "    </tr>\n",
       "  </thead>\n",
       "  <tbody>\n",
       "    <tr>\n",
       "      <td>0</td>\n",
       "      <td>images/18353.jpg</td>\n",
       "      <td>asimina_triloba</td>\n",
       "      <td>22</td>\n",
       "    </tr>\n",
       "    <tr>\n",
       "      <td>1</td>\n",
       "      <td>images/18354.jpg</td>\n",
       "      <td>betula_nigra</td>\n",
       "      <td>26</td>\n",
       "    </tr>\n",
       "    <tr>\n",
       "      <td>2</td>\n",
       "      <td>images/18355.jpg</td>\n",
       "      <td>platanus_acerifolia</td>\n",
       "      <td>120</td>\n",
       "    </tr>\n",
       "    <tr>\n",
       "      <td>3</td>\n",
       "      <td>images/18356.jpg</td>\n",
       "      <td>pinus_bungeana</td>\n",
       "      <td>102</td>\n",
       "    </tr>\n",
       "    <tr>\n",
       "      <td>4</td>\n",
       "      <td>images/18357.jpg</td>\n",
       "      <td>platanus_acerifolia</td>\n",
       "      <td>120</td>\n",
       "    </tr>\n",
       "  </tbody>\n",
       "</table>\n",
       "</div>"
      ],
      "text/plain": [
       "              image                label  num_label0\n",
       "0  images/18353.jpg      asimina_triloba          22\n",
       "1  images/18354.jpg         betula_nigra          26\n",
       "2  images/18355.jpg  platanus_acerifolia         120\n",
       "3  images/18356.jpg       pinus_bungeana         102\n",
       "4  images/18357.jpg  platanus_acerifolia         120"
      ]
     },
     "execution_count": 21,
     "metadata": {},
     "output_type": "execute_result"
    }
   ],
   "source": [
    "list_num_label0 = []\n",
    "for i in df0['label']:\n",
    "  list_num_label0.append(class_to_num[i])\n",
    "df0['num_label0']=list_num_label0\n",
    "df0.head()"
   ]
  },
  {
   "cell_type": "code",
   "execution_count": 22,
   "metadata": {
    "colab": {
     "base_uri": "https://localhost:8080/",
     "height": 204
    },
    "id": "fVisaaKR8Pfq",
    "outputId": "73939e7b-119b-4646-fa26-54a6ad5dbdf5"
   },
   "outputs": [
    {
     "data": {
      "text/html": [
       "<div>\n",
       "<style scoped>\n",
       "    .dataframe tbody tr th:only-of-type {\n",
       "        vertical-align: middle;\n",
       "    }\n",
       "\n",
       "    .dataframe tbody tr th {\n",
       "        vertical-align: top;\n",
       "    }\n",
       "\n",
       "    .dataframe thead th {\n",
       "        text-align: right;\n",
       "    }\n",
       "</style>\n",
       "<table border=\"1\" class=\"dataframe\">\n",
       "  <thead>\n",
       "    <tr style=\"text-align: right;\">\n",
       "      <th></th>\n",
       "      <th>image</th>\n",
       "      <th>label</th>\n",
       "      <th>num_label1</th>\n",
       "    </tr>\n",
       "  </thead>\n",
       "  <tbody>\n",
       "    <tr>\n",
       "      <td>0</td>\n",
       "      <td>images/18353.jpg</td>\n",
       "      <td>asimina_triloba</td>\n",
       "      <td>22</td>\n",
       "    </tr>\n",
       "    <tr>\n",
       "      <td>1</td>\n",
       "      <td>images/18354.jpg</td>\n",
       "      <td>betula_nigra</td>\n",
       "      <td>26</td>\n",
       "    </tr>\n",
       "    <tr>\n",
       "      <td>2</td>\n",
       "      <td>images/18355.jpg</td>\n",
       "      <td>platanus_acerifolia</td>\n",
       "      <td>120</td>\n",
       "    </tr>\n",
       "    <tr>\n",
       "      <td>3</td>\n",
       "      <td>images/18356.jpg</td>\n",
       "      <td>pinus_bungeana</td>\n",
       "      <td>102</td>\n",
       "    </tr>\n",
       "    <tr>\n",
       "      <td>4</td>\n",
       "      <td>images/18357.jpg</td>\n",
       "      <td>platanus_acerifolia</td>\n",
       "      <td>120</td>\n",
       "    </tr>\n",
       "  </tbody>\n",
       "</table>\n",
       "</div>"
      ],
      "text/plain": [
       "              image                label  num_label1\n",
       "0  images/18353.jpg      asimina_triloba          22\n",
       "1  images/18354.jpg         betula_nigra          26\n",
       "2  images/18355.jpg  platanus_acerifolia         120\n",
       "3  images/18356.jpg       pinus_bungeana         102\n",
       "4  images/18357.jpg  platanus_acerifolia         120"
      ]
     },
     "execution_count": 22,
     "metadata": {},
     "output_type": "execute_result"
    }
   ],
   "source": [
    "list_num_label1 = []\n",
    "for i in df1['label']:\n",
    "  list_num_label1.append(class_to_num[i])\n",
    "df1['num_label1']=list_num_label1\n",
    "df1.head()"
   ]
  },
  {
   "cell_type": "code",
   "execution_count": 23,
   "metadata": {
    "colab": {
     "base_uri": "https://localhost:8080/",
     "height": 204
    },
    "id": "lUtmlGbU9E0x",
    "outputId": "555acd2a-1337-45a6-836a-9b012214472e"
   },
   "outputs": [
    {
     "data": {
      "text/html": [
       "<div>\n",
       "<style scoped>\n",
       "    .dataframe tbody tr th:only-of-type {\n",
       "        vertical-align: middle;\n",
       "    }\n",
       "\n",
       "    .dataframe tbody tr th {\n",
       "        vertical-align: top;\n",
       "    }\n",
       "\n",
       "    .dataframe thead th {\n",
       "        text-align: right;\n",
       "    }\n",
       "</style>\n",
       "<table border=\"1\" class=\"dataframe\">\n",
       "  <thead>\n",
       "    <tr style=\"text-align: right;\">\n",
       "      <th></th>\n",
       "      <th>image</th>\n",
       "      <th>label</th>\n",
       "      <th>num_label2</th>\n",
       "    </tr>\n",
       "  </thead>\n",
       "  <tbody>\n",
       "    <tr>\n",
       "      <td>0</td>\n",
       "      <td>images/18353.jpg</td>\n",
       "      <td>asimina_triloba</td>\n",
       "      <td>22</td>\n",
       "    </tr>\n",
       "    <tr>\n",
       "      <td>1</td>\n",
       "      <td>images/18354.jpg</td>\n",
       "      <td>platanus_occidentalis</td>\n",
       "      <td>121</td>\n",
       "    </tr>\n",
       "    <tr>\n",
       "      <td>2</td>\n",
       "      <td>images/18355.jpg</td>\n",
       "      <td>platanus_acerifolia</td>\n",
       "      <td>120</td>\n",
       "    </tr>\n",
       "    <tr>\n",
       "      <td>3</td>\n",
       "      <td>images/18356.jpg</td>\n",
       "      <td>pinus_bungeana</td>\n",
       "      <td>102</td>\n",
       "    </tr>\n",
       "    <tr>\n",
       "      <td>4</td>\n",
       "      <td>images/18357.jpg</td>\n",
       "      <td>platanus_acerifolia</td>\n",
       "      <td>120</td>\n",
       "    </tr>\n",
       "  </tbody>\n",
       "</table>\n",
       "</div>"
      ],
      "text/plain": [
       "              image                  label  num_label2\n",
       "0  images/18353.jpg        asimina_triloba          22\n",
       "1  images/18354.jpg  platanus_occidentalis         121\n",
       "2  images/18355.jpg    platanus_acerifolia         120\n",
       "3  images/18356.jpg         pinus_bungeana         102\n",
       "4  images/18357.jpg    platanus_acerifolia         120"
      ]
     },
     "execution_count": 23,
     "metadata": {},
     "output_type": "execute_result"
    }
   ],
   "source": [
    "list_num_label2 = []\n",
    "for i in df2['label']:\n",
    "  list_num_label2.append(class_to_num[i])\n",
    "df2['num_label2']=list_num_label2\n",
    "df2.head()"
   ]
  },
  {
   "cell_type": "code",
   "execution_count": 24,
   "metadata": {
    "colab": {
     "base_uri": "https://localhost:8080/",
     "height": 204
    },
    "id": "Coqj8NMf9KJq",
    "outputId": "349b2492-4418-438d-f9f7-760e08b16a9d"
   },
   "outputs": [
    {
     "data": {
      "text/html": [
       "<div>\n",
       "<style scoped>\n",
       "    .dataframe tbody tr th:only-of-type {\n",
       "        vertical-align: middle;\n",
       "    }\n",
       "\n",
       "    .dataframe tbody tr th {\n",
       "        vertical-align: top;\n",
       "    }\n",
       "\n",
       "    .dataframe thead th {\n",
       "        text-align: right;\n",
       "    }\n",
       "</style>\n",
       "<table border=\"1\" class=\"dataframe\">\n",
       "  <thead>\n",
       "    <tr style=\"text-align: right;\">\n",
       "      <th></th>\n",
       "      <th>image</th>\n",
       "      <th>label</th>\n",
       "      <th>num_label3</th>\n",
       "    </tr>\n",
       "  </thead>\n",
       "  <tbody>\n",
       "    <tr>\n",
       "      <td>0</td>\n",
       "      <td>images/18353.jpg</td>\n",
       "      <td>asimina_triloba</td>\n",
       "      <td>22</td>\n",
       "    </tr>\n",
       "    <tr>\n",
       "      <td>1</td>\n",
       "      <td>images/18354.jpg</td>\n",
       "      <td>betula_nigra</td>\n",
       "      <td>26</td>\n",
       "    </tr>\n",
       "    <tr>\n",
       "      <td>2</td>\n",
       "      <td>images/18355.jpg</td>\n",
       "      <td>platanus_acerifolia</td>\n",
       "      <td>120</td>\n",
       "    </tr>\n",
       "    <tr>\n",
       "      <td>3</td>\n",
       "      <td>images/18356.jpg</td>\n",
       "      <td>pinus_bungeana</td>\n",
       "      <td>102</td>\n",
       "    </tr>\n",
       "    <tr>\n",
       "      <td>4</td>\n",
       "      <td>images/18357.jpg</td>\n",
       "      <td>platanus_acerifolia</td>\n",
       "      <td>120</td>\n",
       "    </tr>\n",
       "  </tbody>\n",
       "</table>\n",
       "</div>"
      ],
      "text/plain": [
       "              image                label  num_label3\n",
       "0  images/18353.jpg      asimina_triloba          22\n",
       "1  images/18354.jpg         betula_nigra          26\n",
       "2  images/18355.jpg  platanus_acerifolia         120\n",
       "3  images/18356.jpg       pinus_bungeana         102\n",
       "4  images/18357.jpg  platanus_acerifolia         120"
      ]
     },
     "execution_count": 24,
     "metadata": {},
     "output_type": "execute_result"
    }
   ],
   "source": [
    "list_num_label3 = []\n",
    "for i in df3['label']:\n",
    "  list_num_label3.append(class_to_num[i])\n",
    "df3['num_label3']=list_num_label3\n",
    "df3.head()"
   ]
  },
  {
   "cell_type": "code",
   "execution_count": 25,
   "metadata": {
    "colab": {
     "base_uri": "https://localhost:8080/",
     "height": 204
    },
    "id": "htPczSqT9Pua",
    "outputId": "a24ac12e-f297-429d-84ad-3819f753a058"
   },
   "outputs": [
    {
     "data": {
      "text/html": [
       "<div>\n",
       "<style scoped>\n",
       "    .dataframe tbody tr th:only-of-type {\n",
       "        vertical-align: middle;\n",
       "    }\n",
       "\n",
       "    .dataframe tbody tr th {\n",
       "        vertical-align: top;\n",
       "    }\n",
       "\n",
       "    .dataframe thead th {\n",
       "        text-align: right;\n",
       "    }\n",
       "</style>\n",
       "<table border=\"1\" class=\"dataframe\">\n",
       "  <thead>\n",
       "    <tr style=\"text-align: right;\">\n",
       "      <th></th>\n",
       "      <th>image</th>\n",
       "      <th>label</th>\n",
       "      <th>num_label4</th>\n",
       "    </tr>\n",
       "  </thead>\n",
       "  <tbody>\n",
       "    <tr>\n",
       "      <td>0</td>\n",
       "      <td>images/18353.jpg</td>\n",
       "      <td>asimina_triloba</td>\n",
       "      <td>22</td>\n",
       "    </tr>\n",
       "    <tr>\n",
       "      <td>1</td>\n",
       "      <td>images/18354.jpg</td>\n",
       "      <td>betula_nigra</td>\n",
       "      <td>26</td>\n",
       "    </tr>\n",
       "    <tr>\n",
       "      <td>2</td>\n",
       "      <td>images/18355.jpg</td>\n",
       "      <td>platanus_acerifolia</td>\n",
       "      <td>120</td>\n",
       "    </tr>\n",
       "    <tr>\n",
       "      <td>3</td>\n",
       "      <td>images/18356.jpg</td>\n",
       "      <td>pinus_bungeana</td>\n",
       "      <td>102</td>\n",
       "    </tr>\n",
       "    <tr>\n",
       "      <td>4</td>\n",
       "      <td>images/18357.jpg</td>\n",
       "      <td>platanus_acerifolia</td>\n",
       "      <td>120</td>\n",
       "    </tr>\n",
       "  </tbody>\n",
       "</table>\n",
       "</div>"
      ],
      "text/plain": [
       "              image                label  num_label4\n",
       "0  images/18353.jpg      asimina_triloba          22\n",
       "1  images/18354.jpg         betula_nigra          26\n",
       "2  images/18355.jpg  platanus_acerifolia         120\n",
       "3  images/18356.jpg       pinus_bungeana         102\n",
       "4  images/18357.jpg  platanus_acerifolia         120"
      ]
     },
     "execution_count": 25,
     "metadata": {},
     "output_type": "execute_result"
    }
   ],
   "source": [
    "list_num_label4 = []\n",
    "for i in df4['label']:\n",
    "  list_num_label4.append(class_to_num[i])\n",
    "df4['num_label4']=list_num_label4\n",
    "df4.head()"
   ]
  },
  {
   "cell_type": "code",
   "execution_count": 26,
   "metadata": {
    "colab": {
     "base_uri": "https://localhost:8080/",
     "height": 204
    },
    "id": "pt_MGztN9UJq",
    "outputId": "4275c864-6c20-4428-d7ec-9f64350d96aa"
   },
   "outputs": [
    {
     "data": {
      "text/html": [
       "<div>\n",
       "<style scoped>\n",
       "    .dataframe tbody tr th:only-of-type {\n",
       "        vertical-align: middle;\n",
       "    }\n",
       "\n",
       "    .dataframe tbody tr th {\n",
       "        vertical-align: top;\n",
       "    }\n",
       "\n",
       "    .dataframe thead th {\n",
       "        text-align: right;\n",
       "    }\n",
       "</style>\n",
       "<table border=\"1\" class=\"dataframe\">\n",
       "  <thead>\n",
       "    <tr style=\"text-align: right;\">\n",
       "      <th></th>\n",
       "      <th>image</th>\n",
       "      <th>num_label0</th>\n",
       "    </tr>\n",
       "  </thead>\n",
       "  <tbody>\n",
       "    <tr>\n",
       "      <td>0</td>\n",
       "      <td>images/18353.jpg</td>\n",
       "      <td>22</td>\n",
       "    </tr>\n",
       "    <tr>\n",
       "      <td>1</td>\n",
       "      <td>images/18354.jpg</td>\n",
       "      <td>26</td>\n",
       "    </tr>\n",
       "    <tr>\n",
       "      <td>2</td>\n",
       "      <td>images/18355.jpg</td>\n",
       "      <td>120</td>\n",
       "    </tr>\n",
       "    <tr>\n",
       "      <td>3</td>\n",
       "      <td>images/18356.jpg</td>\n",
       "      <td>102</td>\n",
       "    </tr>\n",
       "    <tr>\n",
       "      <td>4</td>\n",
       "      <td>images/18357.jpg</td>\n",
       "      <td>120</td>\n",
       "    </tr>\n",
       "  </tbody>\n",
       "</table>\n",
       "</div>"
      ],
      "text/plain": [
       "              image  num_label0\n",
       "0  images/18353.jpg          22\n",
       "1  images/18354.jpg          26\n",
       "2  images/18355.jpg         120\n",
       "3  images/18356.jpg         102\n",
       "4  images/18357.jpg         120"
      ]
     },
     "execution_count": 26,
     "metadata": {},
     "output_type": "execute_result"
    }
   ],
   "source": [
    "df_all = df0.copy()\n",
    "df_all.drop(['label'],axis=1,inplace=True)\n",
    "df_all.head()"
   ]
  },
  {
   "cell_type": "code",
   "execution_count": 27,
   "metadata": {
    "colab": {
     "base_uri": "https://localhost:8080/",
     "height": 204
    },
    "id": "sOPq5bby-A76",
    "outputId": "b453a870-e204-4f7b-e8d7-1e1f6f8a1071"
   },
   "outputs": [
    {
     "data": {
      "text/html": [
       "<div>\n",
       "<style scoped>\n",
       "    .dataframe tbody tr th:only-of-type {\n",
       "        vertical-align: middle;\n",
       "    }\n",
       "\n",
       "    .dataframe tbody tr th {\n",
       "        vertical-align: top;\n",
       "    }\n",
       "\n",
       "    .dataframe thead th {\n",
       "        text-align: right;\n",
       "    }\n",
       "</style>\n",
       "<table border=\"1\" class=\"dataframe\">\n",
       "  <thead>\n",
       "    <tr style=\"text-align: right;\">\n",
       "      <th></th>\n",
       "      <th>image</th>\n",
       "      <th>num_label0</th>\n",
       "      <th>num_label1</th>\n",
       "      <th>num_label2</th>\n",
       "      <th>num_label3</th>\n",
       "      <th>num_label4</th>\n",
       "    </tr>\n",
       "  </thead>\n",
       "  <tbody>\n",
       "    <tr>\n",
       "      <td>0</td>\n",
       "      <td>images/18353.jpg</td>\n",
       "      <td>22</td>\n",
       "      <td>22</td>\n",
       "      <td>22</td>\n",
       "      <td>22</td>\n",
       "      <td>22</td>\n",
       "    </tr>\n",
       "    <tr>\n",
       "      <td>1</td>\n",
       "      <td>images/18354.jpg</td>\n",
       "      <td>26</td>\n",
       "      <td>26</td>\n",
       "      <td>121</td>\n",
       "      <td>26</td>\n",
       "      <td>26</td>\n",
       "    </tr>\n",
       "    <tr>\n",
       "      <td>2</td>\n",
       "      <td>images/18355.jpg</td>\n",
       "      <td>120</td>\n",
       "      <td>120</td>\n",
       "      <td>120</td>\n",
       "      <td>120</td>\n",
       "      <td>120</td>\n",
       "    </tr>\n",
       "    <tr>\n",
       "      <td>3</td>\n",
       "      <td>images/18356.jpg</td>\n",
       "      <td>102</td>\n",
       "      <td>102</td>\n",
       "      <td>102</td>\n",
       "      <td>102</td>\n",
       "      <td>102</td>\n",
       "    </tr>\n",
       "    <tr>\n",
       "      <td>4</td>\n",
       "      <td>images/18357.jpg</td>\n",
       "      <td>120</td>\n",
       "      <td>120</td>\n",
       "      <td>120</td>\n",
       "      <td>120</td>\n",
       "      <td>120</td>\n",
       "    </tr>\n",
       "  </tbody>\n",
       "</table>\n",
       "</div>"
      ],
      "text/plain": [
       "              image  num_label0  num_label1  num_label2  num_label3  \\\n",
       "0  images/18353.jpg          22          22          22          22   \n",
       "1  images/18354.jpg          26          26         121          26   \n",
       "2  images/18355.jpg         120         120         120         120   \n",
       "3  images/18356.jpg         102         102         102         102   \n",
       "4  images/18357.jpg         120         120         120         120   \n",
       "\n",
       "   num_label4  \n",
       "0          22  \n",
       "1          26  \n",
       "2         120  \n",
       "3         102  \n",
       "4         120  "
      ]
     },
     "execution_count": 27,
     "metadata": {},
     "output_type": "execute_result"
    }
   ],
   "source": [
    "df_all['num_label1']=list_num_label1\n",
    "df_all['num_label2']=list_num_label2\n",
    "df_all['num_label3']=list_num_label3\n",
    "df_all['num_label4']=list_num_label4\n",
    "df_all.head()"
   ]
  },
  {
   "cell_type": "code",
   "execution_count": 28,
   "metadata": {
    "colab": {
     "base_uri": "https://localhost:8080/",
     "height": 253
    },
    "id": "aLcatNuh-QKa",
    "outputId": "e8ed6e59-3ccb-4ca8-f449-49e3e4a43ebf"
   },
   "outputs": [
    {
     "data": {
      "text/html": [
       "<div>\n",
       "<style scoped>\n",
       "    .dataframe tbody tr th:only-of-type {\n",
       "        vertical-align: middle;\n",
       "    }\n",
       "\n",
       "    .dataframe tbody tr th {\n",
       "        vertical-align: top;\n",
       "    }\n",
       "\n",
       "    .dataframe thead th {\n",
       "        text-align: right;\n",
       "    }\n",
       "</style>\n",
       "<table border=\"1\" class=\"dataframe\">\n",
       "  <thead>\n",
       "    <tr style=\"text-align: right;\">\n",
       "      <th></th>\n",
       "      <th>0</th>\n",
       "      <th>1</th>\n",
       "      <th>2</th>\n",
       "      <th>3</th>\n",
       "      <th>4</th>\n",
       "      <th>5</th>\n",
       "      <th>6</th>\n",
       "      <th>7</th>\n",
       "      <th>8</th>\n",
       "      <th>9</th>\n",
       "      <th>...</th>\n",
       "      <th>8790</th>\n",
       "      <th>8791</th>\n",
       "      <th>8792</th>\n",
       "      <th>8793</th>\n",
       "      <th>8794</th>\n",
       "      <th>8795</th>\n",
       "      <th>8796</th>\n",
       "      <th>8797</th>\n",
       "      <th>8798</th>\n",
       "      <th>8799</th>\n",
       "    </tr>\n",
       "  </thead>\n",
       "  <tbody>\n",
       "    <tr>\n",
       "      <td>num_label0</td>\n",
       "      <td>22</td>\n",
       "      <td>26</td>\n",
       "      <td>120</td>\n",
       "      <td>102</td>\n",
       "      <td>120</td>\n",
       "      <td>74</td>\n",
       "      <td>84</td>\n",
       "      <td>91</td>\n",
       "      <td>165</td>\n",
       "      <td>169</td>\n",
       "      <td>...</td>\n",
       "      <td>117</td>\n",
       "      <td>53</td>\n",
       "      <td>117</td>\n",
       "      <td>53</td>\n",
       "      <td>73</td>\n",
       "      <td>117</td>\n",
       "      <td>53</td>\n",
       "      <td>117</td>\n",
       "      <td>73</td>\n",
       "      <td>73</td>\n",
       "    </tr>\n",
       "    <tr>\n",
       "      <td>num_label1</td>\n",
       "      <td>22</td>\n",
       "      <td>26</td>\n",
       "      <td>120</td>\n",
       "      <td>102</td>\n",
       "      <td>120</td>\n",
       "      <td>74</td>\n",
       "      <td>83</td>\n",
       "      <td>91</td>\n",
       "      <td>165</td>\n",
       "      <td>169</td>\n",
       "      <td>...</td>\n",
       "      <td>117</td>\n",
       "      <td>53</td>\n",
       "      <td>117</td>\n",
       "      <td>53</td>\n",
       "      <td>73</td>\n",
       "      <td>119</td>\n",
       "      <td>53</td>\n",
       "      <td>117</td>\n",
       "      <td>73</td>\n",
       "      <td>73</td>\n",
       "    </tr>\n",
       "    <tr>\n",
       "      <td>num_label2</td>\n",
       "      <td>22</td>\n",
       "      <td>121</td>\n",
       "      <td>120</td>\n",
       "      <td>102</td>\n",
       "      <td>120</td>\n",
       "      <td>74</td>\n",
       "      <td>84</td>\n",
       "      <td>91</td>\n",
       "      <td>165</td>\n",
       "      <td>169</td>\n",
       "      <td>...</td>\n",
       "      <td>117</td>\n",
       "      <td>53</td>\n",
       "      <td>117</td>\n",
       "      <td>53</td>\n",
       "      <td>73</td>\n",
       "      <td>119</td>\n",
       "      <td>53</td>\n",
       "      <td>117</td>\n",
       "      <td>73</td>\n",
       "      <td>73</td>\n",
       "    </tr>\n",
       "    <tr>\n",
       "      <td>num_label3</td>\n",
       "      <td>22</td>\n",
       "      <td>26</td>\n",
       "      <td>120</td>\n",
       "      <td>102</td>\n",
       "      <td>120</td>\n",
       "      <td>74</td>\n",
       "      <td>83</td>\n",
       "      <td>91</td>\n",
       "      <td>165</td>\n",
       "      <td>169</td>\n",
       "      <td>...</td>\n",
       "      <td>117</td>\n",
       "      <td>53</td>\n",
       "      <td>117</td>\n",
       "      <td>53</td>\n",
       "      <td>73</td>\n",
       "      <td>119</td>\n",
       "      <td>53</td>\n",
       "      <td>117</td>\n",
       "      <td>73</td>\n",
       "      <td>73</td>\n",
       "    </tr>\n",
       "    <tr>\n",
       "      <td>num_label4</td>\n",
       "      <td>22</td>\n",
       "      <td>26</td>\n",
       "      <td>120</td>\n",
       "      <td>102</td>\n",
       "      <td>120</td>\n",
       "      <td>74</td>\n",
       "      <td>84</td>\n",
       "      <td>91</td>\n",
       "      <td>165</td>\n",
       "      <td>169</td>\n",
       "      <td>...</td>\n",
       "      <td>117</td>\n",
       "      <td>53</td>\n",
       "      <td>117</td>\n",
       "      <td>53</td>\n",
       "      <td>73</td>\n",
       "      <td>117</td>\n",
       "      <td>53</td>\n",
       "      <td>117</td>\n",
       "      <td>73</td>\n",
       "      <td>73</td>\n",
       "    </tr>\n",
       "  </tbody>\n",
       "</table>\n",
       "<p>5 rows × 8800 columns</p>\n",
       "</div>"
      ],
      "text/plain": [
       "            0     1     2     3     4     5     6     7     8     9     ...  \\\n",
       "num_label0    22    26   120   102   120    74    84    91   165   169  ...   \n",
       "num_label1    22    26   120   102   120    74    83    91   165   169  ...   \n",
       "num_label2    22   121   120   102   120    74    84    91   165   169  ...   \n",
       "num_label3    22    26   120   102   120    74    83    91   165   169  ...   \n",
       "num_label4    22    26   120   102   120    74    84    91   165   169  ...   \n",
       "\n",
       "            8790  8791  8792  8793  8794  8795  8796  8797  8798  8799  \n",
       "num_label0   117    53   117    53    73   117    53   117    73    73  \n",
       "num_label1   117    53   117    53    73   119    53   117    73    73  \n",
       "num_label2   117    53   117    53    73   119    53   117    73    73  \n",
       "num_label3   117    53   117    53    73   119    53   117    73    73  \n",
       "num_label4   117    53   117    53    73   117    53   117    73    73  \n",
       "\n",
       "[5 rows x 8800 columns]"
      ]
     },
     "execution_count": 28,
     "metadata": {},
     "output_type": "execute_result"
    }
   ],
   "source": [
    "df_all_transpose = df_all.copy().drop(['image'],axis=1).transpose()\n",
    "df_all_transpose.head()"
   ]
  },
  {
   "cell_type": "code",
   "execution_count": 29,
   "metadata": {
    "colab": {
     "base_uri": "https://localhost:8080/",
     "height": 204
    },
    "id": "4uo7hDjJ-dP6",
    "outputId": "24984620-2fd8-42b2-9861-5afd3338b8ef"
   },
   "outputs": [
    {
     "data": {
      "text/html": [
       "<div>\n",
       "<style scoped>\n",
       "    .dataframe tbody tr th:only-of-type {\n",
       "        vertical-align: middle;\n",
       "    }\n",
       "\n",
       "    .dataframe tbody tr th {\n",
       "        vertical-align: top;\n",
       "    }\n",
       "\n",
       "    .dataframe thead th {\n",
       "        text-align: right;\n",
       "    }\n",
       "</style>\n",
       "<table border=\"1\" class=\"dataframe\">\n",
       "  <thead>\n",
       "    <tr style=\"text-align: right;\">\n",
       "      <th></th>\n",
       "      <th>0</th>\n",
       "      <th>1</th>\n",
       "      <th>2</th>\n",
       "      <th>3</th>\n",
       "      <th>4</th>\n",
       "    </tr>\n",
       "  </thead>\n",
       "  <tbody>\n",
       "    <tr>\n",
       "      <td>0</td>\n",
       "      <td>22.0</td>\n",
       "      <td>NaN</td>\n",
       "      <td>NaN</td>\n",
       "      <td>NaN</td>\n",
       "      <td>NaN</td>\n",
       "    </tr>\n",
       "    <tr>\n",
       "      <td>1</td>\n",
       "      <td>26.0</td>\n",
       "      <td>NaN</td>\n",
       "      <td>NaN</td>\n",
       "      <td>NaN</td>\n",
       "      <td>NaN</td>\n",
       "    </tr>\n",
       "    <tr>\n",
       "      <td>2</td>\n",
       "      <td>120.0</td>\n",
       "      <td>NaN</td>\n",
       "      <td>NaN</td>\n",
       "      <td>NaN</td>\n",
       "      <td>NaN</td>\n",
       "    </tr>\n",
       "    <tr>\n",
       "      <td>3</td>\n",
       "      <td>102.0</td>\n",
       "      <td>NaN</td>\n",
       "      <td>NaN</td>\n",
       "      <td>NaN</td>\n",
       "      <td>NaN</td>\n",
       "    </tr>\n",
       "    <tr>\n",
       "      <td>4</td>\n",
       "      <td>120.0</td>\n",
       "      <td>NaN</td>\n",
       "      <td>NaN</td>\n",
       "      <td>NaN</td>\n",
       "      <td>NaN</td>\n",
       "    </tr>\n",
       "  </tbody>\n",
       "</table>\n",
       "</div>"
      ],
      "text/plain": [
       "       0   1   2   3   4\n",
       "0   22.0 NaN NaN NaN NaN\n",
       "1   26.0 NaN NaN NaN NaN\n",
       "2  120.0 NaN NaN NaN NaN\n",
       "3  102.0 NaN NaN NaN NaN\n",
       "4  120.0 NaN NaN NaN NaN"
      ]
     },
     "execution_count": 29,
     "metadata": {},
     "output_type": "execute_result"
    }
   ],
   "source": [
    "df_mode = df_all_transpose.mode().transpose()\n",
    "df_mode.head()"
   ]
  },
  {
   "cell_type": "code",
   "execution_count": 30,
   "metadata": {
    "colab": {
     "base_uri": "https://localhost:8080/"
    },
    "id": "o84YL1Sn-8qL",
    "outputId": "91cd8855-79a6-40b5-92c8-97604946e781"
   },
   "outputs": [
    {
     "data": {
      "text/plain": [
       "['asimina_triloba',\n",
       " 'betula_nigra',\n",
       " 'platanus_acerifolia',\n",
       " 'pinus_bungeana',\n",
       " 'platanus_acerifolia',\n",
       " 'koelreuteria_paniculata',\n",
       " 'magnolia_tripetala',\n",
       " 'metasequoia_glyptostroboides',\n",
       " 'tilia_cordata',\n",
       " 'ulmus_americana',\n",
       " 'quercus_marilandica',\n",
       " 'quercus_muehlenbergii',\n",
       " 'asimina_triloba',\n",
       " 'castanea_dentata',\n",
       " 'pinus_echinata',\n",
       " 'metasequoia_glyptostroboides',\n",
       " 'picea_pungens',\n",
       " 'quercus_michauxii',\n",
       " 'pinus_cembra',\n",
       " 'cryptomeria_japonica',\n",
       " 'fraxinus_pennsylvanica',\n",
       " 'morus_alba',\n",
       " 'cercis_canadensis',\n",
       " 'ptelea_trifoliata',\n",
       " 'halesia_tetraptera',\n",
       " 'liriodendron_tulipifera',\n",
       " 'acer_rubrum',\n",
       " 'pinus_bungeana',\n",
       " 'quercus_montana',\n",
       " 'cornus_mas',\n",
       " 'magnolia_tripetala',\n",
       " 'ficus_carica',\n",
       " 'carya_glabra',\n",
       " 'quercus_palustris',\n",
       " 'prunus_virginiana',\n",
       " 'prunus_serotina',\n",
       " 'magnolia_macrophylla',\n",
       " 'acer_palmatum',\n",
       " 'picea_orientalis',\n",
       " 'abies_concolor',\n",
       " 'quercus_virginiana',\n",
       " 'liriodendron_tulipifera',\n",
       " 'stewartia_pseudocamellia',\n",
       " 'pinus_pungens',\n",
       " 'gleditsia_triacanthos',\n",
       " 'stewartia_pseudocamellia',\n",
       " 'carya_glabra',\n",
       " 'acer_pseudoplatanus',\n",
       " 'pinus_resinosa',\n",
       " 'chionanthus_virginicus',\n",
       " 'amelanchier_laevis',\n",
       " 'prunus_virginiana',\n",
       " 'quercus_velutina',\n",
       " 'pinus_thunbergii',\n",
       " 'quercus_phellos',\n",
       " 'catalpa_speciosa',\n",
       " 'liquidambar_styraciflua',\n",
       " 'acer_platanoides',\n",
       " 'diospyros_virginiana',\n",
       " 'tilia_cordata',\n",
       " 'broussonettia_papyrifera',\n",
       " 'quercus_michauxii',\n",
       " 'quercus_alba',\n",
       " 'malus_hupehensis',\n",
       " 'carya_glabra',\n",
       " 'halesia_tetraptera',\n",
       " 'metasequoia_glyptostroboides',\n",
       " 'prunus_virginiana',\n",
       " 'magnolia_denudata',\n",
       " 'tilia_europaea',\n",
       " 'populus_grandidentata',\n",
       " 'pinus_virginiana',\n",
       " 'cercis_canadensis',\n",
       " 'carpinus_caroliniana',\n",
       " 'ulmus_glabra',\n",
       " 'cryptomeria_japonica',\n",
       " 'acer_palmatum',\n",
       " 'fagus_grandifolia',\n",
       " 'quercus_marilandica',\n",
       " 'pseudolarix_amabilis',\n",
       " 'pinus_bungeana',\n",
       " 'pinus_resinosa',\n",
       " 'populus_tremuloides',\n",
       " 'quercus_phellos',\n",
       " 'tsuga_canadensis',\n",
       " 'quercus_montana',\n",
       " 'salix_babylonica',\n",
       " 'quercus_marilandica',\n",
       " 'pinus_rigida',\n",
       " 'pinus_pungens',\n",
       " 'carya_ovata',\n",
       " 'tilia_americana',\n",
       " 'quercus_phellos',\n",
       " 'acer_negundo',\n",
       " 'tilia_tomentosa',\n",
       " 'quercus_coccinea',\n",
       " 'abies_concolor',\n",
       " 'cornus_mas',\n",
       " 'catalpa_speciosa',\n",
       " 'staphylea_trifolia',\n",
       " 'pinus_koraiensis',\n",
       " 'salix_matsudana',\n",
       " 'quercus_cerris',\n",
       " 'magnolia_grandiflora',\n",
       " 'eucommia_ulmoides',\n",
       " 'magnolia_macrophylla',\n",
       " 'crataegus_phaenopyrum',\n",
       " 'ilex_opaca',\n",
       " 'pinus_parviflora',\n",
       " 'chionanthus_virginicus',\n",
       " 'acer_pensylvanicum',\n",
       " 'populus_deltoides',\n",
       " 'crataegus_phaenopyrum',\n",
       " 'salix_babylonica',\n",
       " 'carya_cordiformis',\n",
       " 'malus_pumila',\n",
       " 'aesculus_flava',\n",
       " 'magnolia_stellata',\n",
       " 'populus_deltoides',\n",
       " 'ailanthus_altissima',\n",
       " 'magnolia_acuminata',\n",
       " 'prunus_yedoensis',\n",
       " 'stewartia_pseudocamellia',\n",
       " 'crataegus_crus-galli',\n",
       " 'prunus_virginiana',\n",
       " 'salix_caroliniana',\n",
       " 'asimina_triloba',\n",
       " 'pinus_resinosa',\n",
       " 'juniperus_virginiana',\n",
       " 'populus_tremuloides',\n",
       " 'salix_nigra',\n",
       " 'prunus_yedoensis',\n",
       " 'diospyros_virginiana',\n",
       " 'fraxinus_pennsylvanica',\n",
       " 'taxodium_distichum',\n",
       " 'crataegus_phaenopyrum',\n",
       " 'platanus_acerifolia',\n",
       " 'tilia_europaea',\n",
       " 'salix_nigra',\n",
       " 'quercus_robur',\n",
       " 'cedrus_deodara',\n",
       " 'pinus_bungeana',\n",
       " 'ulmus_procera',\n",
       " 'sassafras_albidum',\n",
       " 'juniperus_virginiana',\n",
       " 'catalpa_bignonioides',\n",
       " 'crataegus_phaenopyrum',\n",
       " 'maclura_pomifera',\n",
       " 'zelkova_serrata',\n",
       " 'cornus_florida',\n",
       " 'paulownia_tomentosa',\n",
       " 'cornus_mas',\n",
       " 'staphylea_trifolia',\n",
       " 'koelreuteria_paniculata',\n",
       " 'evodia_daniellii',\n",
       " 'pinus_nigra',\n",
       " 'castanea_dentata',\n",
       " 'platanus_occidentalis',\n",
       " 'quercus_montana',\n",
       " 'ulmus_rubra',\n",
       " 'salix_nigra',\n",
       " 'malus_hupehensis',\n",
       " 'prunus_serotina',\n",
       " 'carya_tomentosa',\n",
       " 'salix_caroliniana',\n",
       " 'liriodendron_tulipifera',\n",
       " 'amelanchier_canadensis',\n",
       " 'fraxinus_pennsylvanica',\n",
       " 'quercus_alba',\n",
       " 'aesculus_pavi',\n",
       " 'prunus_serotina',\n",
       " 'pyrus_calleryana',\n",
       " 'malus_pumila',\n",
       " 'halesia_tetraptera',\n",
       " 'pinus_flexilis',\n",
       " 'liriodendron_tulipifera',\n",
       " 'prunus_virginiana',\n",
       " 'chamaecyparis_pisifera',\n",
       " 'maclura_pomifera',\n",
       " 'taxodium_distichum',\n",
       " 'gleditsia_triacanthos',\n",
       " 'quercus_michauxii',\n",
       " 'ulmus_rubra',\n",
       " 'pinus_strobus',\n",
       " 'pinus_thunbergii',\n",
       " 'quercus_macrocarpa',\n",
       " 'pinus_bungeana',\n",
       " 'pinus_taeda',\n",
       " 'pinus_cembra',\n",
       " 'quercus_cerris',\n",
       " 'prunus_virginiana',\n",
       " 'crataegus_crus-galli',\n",
       " 'crataegus_phaenopyrum',\n",
       " 'quercus_muehlenbergii',\n",
       " 'quercus_robur',\n",
       " 'pinus_virginiana',\n",
       " 'pinus_thunbergii',\n",
       " 'tilia_cordata',\n",
       " 'aesculus_pavi',\n",
       " 'cercis_canadensis',\n",
       " 'chionanthus_retusus',\n",
       " 'cornus_mas',\n",
       " 'populus_grandidentata',\n",
       " 'magnolia_denudata',\n",
       " 'quercus_montana',\n",
       " 'pinus_virginiana',\n",
       " 'quercus_stellata',\n",
       " 'malus_baccata',\n",
       " 'oxydendrum_arboreum',\n",
       " 'carpinus_caroliniana',\n",
       " 'cornus_mas',\n",
       " 'acer_ginnala',\n",
       " 'carya_ovata',\n",
       " 'quercus_velutina',\n",
       " 'koelreuteria_paniculata',\n",
       " 'staphylea_trifolia',\n",
       " 'chamaecyparis_thyoides',\n",
       " 'staphylea_trifolia',\n",
       " 'malus_pumila',\n",
       " 'populus_grandidentata',\n",
       " 'eucommia_ulmoides',\n",
       " 'pinus_peucea',\n",
       " 'pyrus_calleryana',\n",
       " 'magnolia_virginiana',\n",
       " 'juglans_nigra',\n",
       " 'pinus_pungens',\n",
       " 'acer_rubrum',\n",
       " 'carpinus_betulus',\n",
       " 'malus_pumila',\n",
       " 'abies_concolor',\n",
       " 'picea_pungens',\n",
       " 'quercus_muehlenbergii',\n",
       " 'quercus_montana',\n",
       " 'ulmus_parvifolia',\n",
       " 'platanus_occidentalis',\n",
       " 'maclura_pomifera',\n",
       " 'juglans_cinerea',\n",
       " 'broussonettia_papyrifera',\n",
       " 'malus_pumila',\n",
       " 'populus_grandidentata',\n",
       " 'quercus_montana',\n",
       " 'catalpa_speciosa',\n",
       " 'magnolia_macrophylla',\n",
       " 'crataegus_pruinosa',\n",
       " 'quercus_robur',\n",
       " 'platanus_occidentalis',\n",
       " 'aesculus_pavi',\n",
       " 'crataegus_crus-galli',\n",
       " 'ulmus_rubra',\n",
       " 'quercus_acutissima',\n",
       " 'prunus_virginiana',\n",
       " 'catalpa_bignonioides',\n",
       " 'quercus_marilandica',\n",
       " 'quercus_velutina',\n",
       " 'aesculus_pavi',\n",
       " 'quercus_montana',\n",
       " 'pinus_resinosa',\n",
       " 'staphylea_trifolia',\n",
       " 'platanus_acerifolia',\n",
       " 'carya_tomentosa',\n",
       " 'populus_deltoides',\n",
       " 'asimina_triloba',\n",
       " 'pinus_strobus',\n",
       " 'carya_cordiformis',\n",
       " 'magnolia_macrophylla',\n",
       " 'juglans_cinerea',\n",
       " 'malus_baccata',\n",
       " 'acer_saccharum',\n",
       " 'cercidiphyllum_japonicum',\n",
       " 'ulmus_parvifolia',\n",
       " 'diospyros_virginiana',\n",
       " 'aesculus_pavi',\n",
       " 'quercus_michauxii',\n",
       " 'tsuga_canadensis',\n",
       " 'crataegus_phaenopyrum',\n",
       " 'cercidiphyllum_japonicum',\n",
       " 'quercus_montana',\n",
       " 'pinus_strobus',\n",
       " 'ostrya_virginiana',\n",
       " 'fraxinus_nigra',\n",
       " 'picea_abies',\n",
       " 'populus_grandidentata',\n",
       " 'acer_platanoides',\n",
       " 'magnolia_denudata',\n",
       " 'amelanchier_canadensis',\n",
       " 'koelreuteria_paniculata',\n",
       " 'ulmus_pumila',\n",
       " 'crataegus_pruinosa',\n",
       " 'salix_matsudana',\n",
       " 'ulmus_glabra',\n",
       " 'acer_rubrum',\n",
       " 'quercus_acutissima',\n",
       " 'pinus_flexilis',\n",
       " 'taxodium_distichum',\n",
       " 'quercus_imbricaria',\n",
       " 'aesculus_pavi',\n",
       " 'acer_griseum',\n",
       " 'ptelea_trifoliata',\n",
       " 'pinus_peucea',\n",
       " 'castanea_dentata',\n",
       " 'cercis_canadensis',\n",
       " 'magnolia_stellata',\n",
       " 'cercidiphyllum_japonicum',\n",
       " 'acer_pseudoplatanus',\n",
       " 'cercidiphyllum_japonicum',\n",
       " 'pinus_cembra',\n",
       " 'evodia_daniellii',\n",
       " 'platanus_occidentalis',\n",
       " 'betula_alleghaniensis',\n",
       " 'pinus_pungens',\n",
       " 'pinus_virginiana',\n",
       " 'quercus_stellata',\n",
       " 'betula_jacqemontii',\n",
       " 'pinus_koraiensis',\n",
       " 'cladrastis_lutea',\n",
       " 'cedrus_deodara',\n",
       " 'robinia_pseudo-acacia',\n",
       " 'salix_matsudana',\n",
       " 'staphylea_trifolia',\n",
       " 'maclura_pomifera',\n",
       " 'carya_tomentosa',\n",
       " 'halesia_tetraptera',\n",
       " 'stewartia_pseudocamellia',\n",
       " 'salix_matsudana',\n",
       " 'carya_glabra',\n",
       " 'morus_alba',\n",
       " 'acer_saccharum',\n",
       " 'zelkova_serrata',\n",
       " 'acer_saccharum',\n",
       " 'pinus_densiflora',\n",
       " 'acer_palmatum',\n",
       " 'malus_pumila',\n",
       " 'acer_palmatum',\n",
       " 'populus_deltoides',\n",
       " 'abies_concolor',\n",
       " 'chionanthus_virginicus',\n",
       " 'ailanthus_altissima',\n",
       " 'prunus_sargentii',\n",
       " 'prunus_sargentii',\n",
       " 'ulmus_rubra',\n",
       " 'asimina_triloba',\n",
       " 'ulmus_pumila',\n",
       " 'juglans_cinerea',\n",
       " 'pinus_strobus',\n",
       " 'juglans_cinerea',\n",
       " 'paulownia_tomentosa',\n",
       " 'acer_pensylvanicum',\n",
       " 'pinus_parviflora',\n",
       " 'amelanchier_canadensis',\n",
       " 'ostrya_virginiana',\n",
       " 'carya_ovata',\n",
       " 'cedrus_atlantica',\n",
       " 'larix_decidua',\n",
       " 'picea_abies',\n",
       " 'staphylea_trifolia',\n",
       " 'chionanthus_virginicus',\n",
       " 'asimina_triloba',\n",
       " 'chionanthus_virginicus',\n",
       " 'quercus_stellata',\n",
       " 'abies_nordmanniana',\n",
       " 'larix_decidua',\n",
       " 'magnolia_stellata',\n",
       " 'cladrastis_lutea',\n",
       " 'ulmus_americana',\n",
       " 'metasequoia_glyptostroboides',\n",
       " 'quercus_alba',\n",
       " 'crataegus_pruinosa',\n",
       " 'acer_rubrum',\n",
       " 'salix_nigra',\n",
       " 'cornus_kousa',\n",
       " 'pinus_taeda',\n",
       " 'betula_alleghaniensis',\n",
       " 'quercus_michauxii',\n",
       " 'quercus_acutissima',\n",
       " 'ulmus_procera',\n",
       " 'chionanthus_virginicus',\n",
       " 'acer_negundo',\n",
       " 'cercis_canadensis',\n",
       " 'catalpa_bignonioides',\n",
       " 'prunus_sargentii',\n",
       " 'chionanthus_virginicus',\n",
       " 'cercis_canadensis',\n",
       " 'chionanthus_retusus',\n",
       " 'prunus_pensylvanica',\n",
       " 'platanus_acerifolia',\n",
       " 'picea_abies',\n",
       " 'pinus_sylvestris',\n",
       " 'magnolia_virginiana',\n",
       " 'ulmus_americana',\n",
       " 'ostrya_virginiana',\n",
       " 'phellodendron_amurense',\n",
       " 'phellodendron_amurense',\n",
       " 'carya_ovata',\n",
       " 'ulmus_procera',\n",
       " 'picea_orientalis',\n",
       " 'liquidambar_styraciflua',\n",
       " 'aesculus_pavi',\n",
       " 'prunus_pensylvanica',\n",
       " 'aesculus_pavi',\n",
       " 'tilia_cordata',\n",
       " 'ficus_carica',\n",
       " 'cercis_canadensis',\n",
       " 'magnolia_tripetala',\n",
       " 'ulmus_pumila',\n",
       " 'aesculus_pavi',\n",
       " 'pinus_densiflora',\n",
       " 'abies_nordmanniana',\n",
       " 'pinus_flexilis',\n",
       " 'juniperus_virginiana',\n",
       " 'pinus_sylvestris',\n",
       " 'maclura_pomifera',\n",
       " 'nyssa_sylvatica',\n",
       " 'betula_lenta',\n",
       " 'pinus_pungens',\n",
       " 'ailanthus_altissima',\n",
       " 'ulmus_rubra',\n",
       " 'cryptomeria_japonica',\n",
       " 'pinus_peucea',\n",
       " 'carpinus_caroliniana',\n",
       " 'broussonettia_papyrifera',\n",
       " 'populus_tremuloides',\n",
       " 'gymnocladus_dioicus',\n",
       " 'juglans_cinerea',\n",
       " 'quercus_macrocarpa',\n",
       " 'liriodendron_tulipifera',\n",
       " 'liriodendron_tulipifera',\n",
       " 'quercus_alba',\n",
       " 'acer_platanoides',\n",
       " 'pinus_echinata',\n",
       " 'carya_tomentosa',\n",
       " 'pseudolarix_amabilis',\n",
       " 'prunus_serrulata',\n",
       " 'prunus_sargentii',\n",
       " 'diospyros_virginiana',\n",
       " 'malus_hupehensis',\n",
       " 'quercus_marilandica',\n",
       " 'cornus_florida',\n",
       " 'morus_rubra',\n",
       " 'ulmus_glabra',\n",
       " 'pinus_parviflora',\n",
       " 'amelanchier_arborea',\n",
       " 'liquidambar_styraciflua',\n",
       " 'pinus_cembra',\n",
       " 'quercus_coccinea',\n",
       " 'malus_pumila',\n",
       " 'pinus_koraiensis',\n",
       " 'quercus_cerris',\n",
       " 'pinus_nigra',\n",
       " 'liriodendron_tulipifera',\n",
       " 'celtis_tenuifolia',\n",
       " 'pinus_virginiana',\n",
       " 'quercus_velutina',\n",
       " 'pseudolarix_amabilis',\n",
       " 'quercus_shumardii',\n",
       " 'tsuga_canadensis',\n",
       " 'diospyros_virginiana',\n",
       " 'salix_caroliniana',\n",
       " 'sassafras_albidum',\n",
       " 'ulmus_pumila',\n",
       " 'chionanthus_virginicus',\n",
       " 'cornus_mas',\n",
       " 'acer_saccharum',\n",
       " 'broussonettia_papyrifera',\n",
       " 'tsuga_canadensis',\n",
       " 'pinus_wallichiana',\n",
       " 'quercus_acutissima',\n",
       " 'ulmus_glabra',\n",
       " 'quercus_robur',\n",
       " 'acer_rubrum',\n",
       " 'acer_pensylvanicum',\n",
       " 'pinus_rigida',\n",
       " 'quercus_phellos',\n",
       " 'sassafras_albidum',\n",
       " 'pinus_sylvestris',\n",
       " 'fraxinus_pennsylvanica',\n",
       " 'albizia_julibrissin',\n",
       " 'pinus_cembra',\n",
       " 'ostrya_virginiana',\n",
       " 'acer_saccharinum',\n",
       " 'malus_pumila',\n",
       " 'catalpa_bignonioides',\n",
       " 'magnolia_tripetala',\n",
       " 'ailanthus_altissima',\n",
       " 'gymnocladus_dioicus',\n",
       " 'betula_jacqemontii',\n",
       " 'juglans_cinerea',\n",
       " 'chionanthus_retusus',\n",
       " 'gymnocladus_dioicus',\n",
       " 'quercus_shumardii',\n",
       " 'metasequoia_glyptostroboides',\n",
       " 'asimina_triloba',\n",
       " 'prunus_yedoensis',\n",
       " 'quercus_macrocarpa',\n",
       " 'aesculus_flava',\n",
       " 'pinus_densiflora',\n",
       " 'magnolia_virginiana',\n",
       " 'acer_saccharinum',\n",
       " 'salix_caroliniana',\n",
       " 'gleditsia_triacanthos',\n",
       " 'pyrus_calleryana',\n",
       " 'acer_negundo',\n",
       " 'acer_saccharum',\n",
       " 'ilex_opaca',\n",
       " 'pinus_nigra',\n",
       " 'paulownia_tomentosa',\n",
       " 'cercis_canadensis',\n",
       " 'pinus_nigra',\n",
       " 'salix_babylonica',\n",
       " 'cornus_mas',\n",
       " 'staphylea_trifolia',\n",
       " 'carya_tomentosa',\n",
       " 'celtis_tenuifolia',\n",
       " 'pinus_peucea',\n",
       " 'magnolia_stellata',\n",
       " 'quercus_muehlenbergii',\n",
       " 'ulmus_procera',\n",
       " 'malus_pumila',\n",
       " 'sassafras_albidum',\n",
       " 'malus_pumila',\n",
       " 'abies_nordmanniana',\n",
       " 'ulmus_rubra',\n",
       " 'quercus_shumardii',\n",
       " 'carya_tomentosa',\n",
       " 'pinus_echinata',\n",
       " 'ptelea_trifoliata',\n",
       " 'picea_abies',\n",
       " 'ficus_carica',\n",
       " 'chamaecyparis_thyoides',\n",
       " 'pinus_echinata',\n",
       " 'pinus_peucea',\n",
       " 'amelanchier_arborea',\n",
       " 'nyssa_sylvatica',\n",
       " 'picea_abies',\n",
       " 'picea_abies',\n",
       " 'chamaecyparis_thyoides',\n",
       " 'salix_babylonica',\n",
       " 'pinus_parviflora',\n",
       " 'amelanchier_arborea',\n",
       " 'eucommia_ulmoides',\n",
       " 'ulmus_rubra',\n",
       " 'ulmus_glabra',\n",
       " 'quercus_cerris',\n",
       " 'gleditsia_triacanthos',\n",
       " 'cornus_florida',\n",
       " 'prunus_sargentii',\n",
       " 'ulmus_pumila',\n",
       " 'catalpa_speciosa',\n",
       " 'castanea_dentata',\n",
       " 'ulmus_procera',\n",
       " 'aesculus_hippocastamon',\n",
       " 'malus_pumila',\n",
       " 'pinus_nigra',\n",
       " 'pseudolarix_amabilis',\n",
       " 'pseudolarix_amabilis',\n",
       " 'crataegus_crus-galli',\n",
       " 'ulmus_glabra',\n",
       " 'acer_griseum',\n",
       " 'ptelea_trifoliata',\n",
       " 'metasequoia_glyptostroboides',\n",
       " 'pinus_densiflora',\n",
       " 'tilia_americana',\n",
       " 'morus_alba',\n",
       " 'nyssa_sylvatica',\n",
       " 'cercis_canadensis',\n",
       " 'tilia_cordata',\n",
       " 'quercus_velutina',\n",
       " 'crataegus_laevigata',\n",
       " 'pinus_taeda',\n",
       " 'pinus_densiflora',\n",
       " 'ulmus_glabra',\n",
       " 'abies_concolor',\n",
       " 'styrax_japonica',\n",
       " 'amelanchier_laevis',\n",
       " 'taxodium_distichum',\n",
       " 'pinus_echinata',\n",
       " 'prunus_subhirtella',\n",
       " 'liriodendron_tulipifera',\n",
       " 'phellodendron_amurense',\n",
       " 'koelreuteria_paniculata',\n",
       " 'quercus_palustris',\n",
       " 'betula_jacqemontii',\n",
       " 'tilia_europaea',\n",
       " 'ulmus_procera',\n",
       " 'taxodium_distichum',\n",
       " 'prunus_subhirtella',\n",
       " 'magnolia_grandiflora',\n",
       " 'pinus_nigra',\n",
       " 'malus_hupehensis',\n",
       " 'ostrya_virginiana',\n",
       " 'picea_orientalis',\n",
       " 'quercus_acutissima',\n",
       " 'tilia_americana',\n",
       " 'koelreuteria_paniculata',\n",
       " 'zelkova_serrata',\n",
       " 'catalpa_speciosa',\n",
       " 'aesculus_pavi',\n",
       " 'magnolia_stellata',\n",
       " 'acer_negundo',\n",
       " 'carpinus_betulus',\n",
       " 'pinus_pungens',\n",
       " 'ostrya_virginiana',\n",
       " 'acer_campestre',\n",
       " 'quercus_alba',\n",
       " 'cornus_florida',\n",
       " 'broussonettia_papyrifera',\n",
       " 'acer_ginnala',\n",
       " 'quercus_cerris',\n",
       " 'picea_pungens',\n",
       " 'cornus_mas',\n",
       " 'pinus_densiflora',\n",
       " 'magnolia_virginiana',\n",
       " 'magnolia_grandiflora',\n",
       " 'populus_grandidentata',\n",
       " 'acer_saccharum',\n",
       " 'koelreuteria_paniculata',\n",
       " 'carya_ovata',\n",
       " 'prunus_subhirtella',\n",
       " 'prunus_virginiana',\n",
       " 'robinia_pseudo-acacia',\n",
       " 'catalpa_bignonioides',\n",
       " 'liriodendron_tulipifera',\n",
       " 'liriodendron_tulipifera',\n",
       " 'amelanchier_laevis',\n",
       " 'ulmus_pumila',\n",
       " 'metasequoia_glyptostroboides',\n",
       " 'pyrus_calleryana',\n",
       " 'chamaecyparis_pisifera',\n",
       " 'diospyros_virginiana',\n",
       " 'malus_baccata',\n",
       " 'magnolia_tripetala',\n",
       " 'halesia_tetraptera',\n",
       " 'pinus_flexilis',\n",
       " 'malus_baccata',\n",
       " 'pinus_parviflora',\n",
       " 'ulmus_parvifolia',\n",
       " 'ulmus_pumila',\n",
       " 'staphylea_trifolia',\n",
       " 'pinus_parviflora',\n",
       " 'chionanthus_retusus',\n",
       " 'amelanchier_canadensis',\n",
       " 'ficus_carica',\n",
       " 'morus_rubra',\n",
       " 'cercis_canadensis',\n",
       " 'carya_glabra',\n",
       " 'diospyros_virginiana',\n",
       " 'chamaecyparis_pisifera',\n",
       " 'quercus_macrocarpa',\n",
       " 'platanus_acerifolia',\n",
       " 'ulmus_americana',\n",
       " 'quercus_bicolor',\n",
       " 'acer_negundo',\n",
       " 'chamaecyparis_pisifera',\n",
       " 'ptelea_trifoliata',\n",
       " 'quercus_muehlenbergii',\n",
       " 'aesculus_glabra',\n",
       " 'prunus_virginiana',\n",
       " 'quercus_robur',\n",
       " 'juniperus_virginiana',\n",
       " 'betula_jacqemontii',\n",
       " 'carya_glabra',\n",
       " 'maclura_pomifera',\n",
       " 'liriodendron_tulipifera',\n",
       " 'magnolia_macrophylla',\n",
       " 'quercus_virginiana',\n",
       " 'cornus_kousa',\n",
       " 'cornus_florida',\n",
       " 'prunus_subhirtella',\n",
       " 'evodia_daniellii',\n",
       " 'chionanthus_retusus',\n",
       " 'catalpa_speciosa',\n",
       " 'celtis_occidentalis',\n",
       " 'pinus_sylvestris',\n",
       " 'quercus_phellos',\n",
       " 'crataegus_crus-galli',\n",
       " 'tilia_europaea',\n",
       " 'ailanthus_altissima',\n",
       " 'eucommia_ulmoides',\n",
       " 'cryptomeria_japonica',\n",
       " 'juniperus_virginiana',\n",
       " 'zelkova_serrata',\n",
       " 'koelreuteria_paniculata',\n",
       " 'oxydendrum_arboreum',\n",
       " 'abies_concolor',\n",
       " 'tilia_europaea',\n",
       " 'halesia_tetraptera',\n",
       " 'castanea_dentata',\n",
       " 'prunus_pensylvanica',\n",
       " 'betula_populifolia',\n",
       " 'broussonettia_papyrifera',\n",
       " 'staphylea_trifolia',\n",
       " 'acer_pensylvanicum',\n",
       " 'ostrya_virginiana',\n",
       " 'prunus_virginiana',\n",
       " 'castanea_dentata',\n",
       " 'celtis_tenuifolia',\n",
       " 'morus_rubra',\n",
       " 'quercus_robur',\n",
       " 'carpinus_betulus',\n",
       " 'pinus_sylvestris',\n",
       " 'amelanchier_canadensis',\n",
       " 'pyrus_calleryana',\n",
       " 'carya_glabra',\n",
       " 'cornus_kousa',\n",
       " 'acer_rubrum',\n",
       " 'eucommia_ulmoides',\n",
       " 'aesculus_hippocastamon',\n",
       " 'malus_pumila',\n",
       " 'ulmus_rubra',\n",
       " 'acer_ginnala',\n",
       " 'tilia_tomentosa',\n",
       " 'aesculus_hippocastamon',\n",
       " 'quercus_acutissima',\n",
       " 'betula_nigra',\n",
       " 'chamaecyparis_pisifera',\n",
       " 'liriodendron_tulipifera',\n",
       " 'tilia_cordata',\n",
       " 'pinus_rigida',\n",
       " 'pinus_taeda',\n",
       " 'prunus_sargentii',\n",
       " 'quercus_robur',\n",
       " 'diospyros_virginiana',\n",
       " 'pinus_peucea',\n",
       " 'quercus_phellos',\n",
       " 'juglans_cinerea',\n",
       " 'carpinus_betulus',\n",
       " 'ailanthus_altissima',\n",
       " 'quercus_velutina',\n",
       " 'crataegus_phaenopyrum',\n",
       " 'larix_decidua',\n",
       " 'robinia_pseudo-acacia',\n",
       " 'quercus_bicolor',\n",
       " 'quercus_marilandica',\n",
       " 'ptelea_trifoliata',\n",
       " 'ptelea_trifoliata',\n",
       " 'quercus_montana',\n",
       " 'acer_saccharum',\n",
       " 'cedrus_deodara',\n",
       " 'prunus_sargentii',\n",
       " 'platanus_acerifolia',\n",
       " 'pinus_flexilis',\n",
       " 'quercus_imbricaria',\n",
       " 'liriodendron_tulipifera',\n",
       " 'tilia_cordata',\n",
       " 'pinus_bungeana',\n",
       " 'magnolia_grandiflora',\n",
       " 'platanus_occidentalis',\n",
       " 'quercus_stellata',\n",
       " 'prunus_sargentii',\n",
       " 'celtis_tenuifolia',\n",
       " 'malus_pumila',\n",
       " 'pinus_nigra',\n",
       " 'abies_concolor',\n",
       " 'ulmus_americana',\n",
       " 'acer_rubrum',\n",
       " 'tilia_americana',\n",
       " 'betula_alleghaniensis',\n",
       " 'magnolia_grandiflora',\n",
       " 'acer_saccharum',\n",
       " 'ulmus_rubra',\n",
       " 'chionanthus_retusus',\n",
       " 'chamaecyparis_pisifera',\n",
       " 'quercus_bicolor',\n",
       " 'acer_platanoides',\n",
       " 'pinus_pungens',\n",
       " 'catalpa_speciosa',\n",
       " 'zelkova_serrata',\n",
       " 'populus_grandidentata',\n",
       " 'ficus_carica',\n",
       " 'morus_rubra',\n",
       " 'quercus_marilandica',\n",
       " 'carya_tomentosa',\n",
       " 'malus_pumila',\n",
       " 'crataegus_crus-galli',\n",
       " 'prunus_virginiana',\n",
       " 'larix_decidua',\n",
       " 'acer_platanoides',\n",
       " 'staphylea_trifolia',\n",
       " 'prunus_yedoensis',\n",
       " 'prunus_yedoensis',\n",
       " 'fraxinus_nigra',\n",
       " 'prunus_virginiana',\n",
       " 'eucommia_ulmoides',\n",
       " 'prunus_sargentii',\n",
       " 'acer_griseum',\n",
       " 'quercus_alba',\n",
       " 'prunus_pensylvanica',\n",
       " 'amelanchier_canadensis',\n",
       " 'prunus_sargentii',\n",
       " 'broussonettia_papyrifera',\n",
       " 'eucommia_ulmoides',\n",
       " 'picea_orientalis',\n",
       " 'quercus_marilandica',\n",
       " 'styrax_japonica',\n",
       " 'acer_saccharum',\n",
       " 'populus_grandidentata',\n",
       " 'pyrus_calleryana',\n",
       " 'magnolia_tripetala',\n",
       " 'populus_deltoides',\n",
       " 'malus_floribunda',\n",
       " 'betula_jacqemontii',\n",
       " 'pinus_peucea',\n",
       " 'tilia_europaea',\n",
       " 'gymnocladus_dioicus',\n",
       " 'staphylea_trifolia',\n",
       " 'quercus_stellata',\n",
       " 'pinus_peucea',\n",
       " 'magnolia_tripetala',\n",
       " 'cornus_florida',\n",
       " 'diospyros_virginiana',\n",
       " 'pinus_flexilis',\n",
       " 'ulmus_parvifolia',\n",
       " 'tilia_cordata',\n",
       " 'ulmus_rubra',\n",
       " 'robinia_pseudo-acacia',\n",
       " 'broussonettia_papyrifera',\n",
       " 'pinus_bungeana',\n",
       " 'ulmus_rubra',\n",
       " 'carya_glabra',\n",
       " 'quercus_muehlenbergii',\n",
       " 'pinus_virginiana',\n",
       " 'tsuga_canadensis',\n",
       " 'morus_alba',\n",
       " 'quercus_shumardii',\n",
       " 'ostrya_virginiana',\n",
       " 'carpinus_betulus',\n",
       " 'carya_cordiformis',\n",
       " 'magnolia_denudata',\n",
       " 'malus_floribunda',\n",
       " 'quercus_cerris',\n",
       " 'ostrya_virginiana',\n",
       " 'quercus_stellata',\n",
       " 'quercus_acutissima',\n",
       " 'aesculus_hippocastamon',\n",
       " 'maclura_pomifera',\n",
       " 'populus_grandidentata',\n",
       " 'pseudolarix_amabilis',\n",
       " 'amelanchier_laevis',\n",
       " 'liriodendron_tulipifera',\n",
       " 'cryptomeria_japonica',\n",
       " 'populus_tremuloides',\n",
       " 'magnolia_macrophylla',\n",
       " 'evodia_daniellii',\n",
       " 'catalpa_speciosa',\n",
       " 'prunus_serrulata',\n",
       " 'asimina_triloba',\n",
       " 'cladrastis_lutea',\n",
       " 'catalpa_speciosa',\n",
       " 'acer_rubrum',\n",
       " 'prunus_serotina',\n",
       " 'carya_ovata',\n",
       " 'castanea_dentata',\n",
       " 'castanea_dentata',\n",
       " 'abies_nordmanniana',\n",
       " 'quercus_alba',\n",
       " 'ilex_opaca',\n",
       " 'prunus_sargentii',\n",
       " 'ilex_opaca',\n",
       " 'pinus_sylvestris',\n",
       " 'gleditsia_triacanthos',\n",
       " 'betula_nigra',\n",
       " 'abies_concolor',\n",
       " 'ulmus_pumila',\n",
       " 'pinus_bungeana',\n",
       " 'pinus_densiflora',\n",
       " 'zelkova_serrata',\n",
       " 'castanea_dentata',\n",
       " 'morus_rubra',\n",
       " 'quercus_macrocarpa',\n",
       " 'pinus_wallichiana',\n",
       " 'ailanthus_altissima',\n",
       " 'acer_rubrum',\n",
       " 'quercus_virginiana',\n",
       " 'juglans_cinerea',\n",
       " 'magnolia_macrophylla',\n",
       " 'acer_campestre',\n",
       " 'magnolia_virginiana',\n",
       " 'zelkova_serrata',\n",
       " 'phellodendron_amurense',\n",
       " 'aesculus_pavi',\n",
       " 'taxodium_distichum',\n",
       " 'picea_pungens',\n",
       " 'acer_griseum',\n",
       " 'crataegus_laevigata',\n",
       " 'magnolia_macrophylla',\n",
       " 'magnolia_macrophylla',\n",
       " 'celtis_tenuifolia',\n",
       " 'malus_baccata',\n",
       " 'maclura_pomifera',\n",
       " 'albizia_julibrissin',\n",
       " 'stewartia_pseudocamellia',\n",
       " 'magnolia_acuminata',\n",
       " 'pyrus_calleryana',\n",
       " 'populus_deltoides',\n",
       " 'pinus_peucea',\n",
       " 'maclura_pomifera',\n",
       " 'malus_hupehensis',\n",
       " 'cercis_canadensis',\n",
       " 'acer_ginnala',\n",
       " 'acer_palmatum',\n",
       " 'prunus_virginiana',\n",
       " 'taxodium_distichum',\n",
       " 'cornus_florida',\n",
       " 'pyrus_calleryana',\n",
       " 'catalpa_bignonioides',\n",
       " 'taxodium_distichum',\n",
       " 'acer_saccharum',\n",
       " 'nyssa_sylvatica',\n",
       " 'juglans_cinerea',\n",
       " 'carya_ovata',\n",
       " 'oxydendrum_arboreum',\n",
       " 'robinia_pseudo-acacia',\n",
       " 'betula_populifolia',\n",
       " 'morus_rubra',\n",
       " 'phellodendron_amurense',\n",
       " 'taxodium_distichum',\n",
       " 'morus_rubra',\n",
       " 'catalpa_bignonioides',\n",
       " 'crataegus_crus-galli',\n",
       " 'cornus_florida',\n",
       " 'malus_pumila',\n",
       " 'ailanthus_altissima',\n",
       " 'populus_tremuloides',\n",
       " 'stewartia_pseudocamellia',\n",
       " 'cryptomeria_japonica',\n",
       " 'acer_palmatum',\n",
       " 'ulmus_americana',\n",
       " 'malus_hupehensis',\n",
       " 'acer_negundo',\n",
       " 'taxodium_distichum',\n",
       " 'quercus_acutissima',\n",
       " 'aesculus_glabra',\n",
       " 'pseudolarix_amabilis',\n",
       " 'acer_negundo',\n",
       " 'ostrya_virginiana',\n",
       " 'ailanthus_altissima',\n",
       " 'acer_negundo',\n",
       " 'acer_rubrum',\n",
       " 'cryptomeria_japonica',\n",
       " 'celtis_tenuifolia',\n",
       " 'pinus_bungeana',\n",
       " 'abies_nordmanniana',\n",
       " 'liriodendron_tulipifera',\n",
       " 'cedrus_libani',\n",
       " 'fagus_grandifolia',\n",
       " 'broussonettia_papyrifera',\n",
       " 'pinus_bungeana',\n",
       " 'salix_matsudana',\n",
       " 'abies_concolor',\n",
       " 'salix_matsudana',\n",
       " 'salix_nigra',\n",
       " 'pinus_virginiana',\n",
       " 'zelkova_serrata',\n",
       " 'pinus_bungeana',\n",
       " 'magnolia_virginiana',\n",
       " 'quercus_cerris',\n",
       " 'cedrus_deodara',\n",
       " 'stewartia_pseudocamellia',\n",
       " 'halesia_tetraptera',\n",
       " 'picea_orientalis',\n",
       " 'carya_cordiformis',\n",
       " 'pinus_flexilis',\n",
       " 'taxodium_distichum',\n",
       " 'pinus_echinata',\n",
       " 'pinus_sylvestris',\n",
       " 'populus_tremuloides',\n",
       " 'pinus_virginiana',\n",
       " 'carya_ovata',\n",
       " 'pinus_thunbergii',\n",
       " 'quercus_muehlenbergii',\n",
       " 'malus_baccata',\n",
       " 'fraxinus_pennsylvanica',\n",
       " 'tilia_cordata',\n",
       " 'magnolia_virginiana',\n",
       " 'tilia_americana',\n",
       " 'magnolia_tripetala',\n",
       " 'stewartia_pseudocamellia',\n",
       " 'ptelea_trifoliata',\n",
       " 'staphylea_trifolia',\n",
       " 'cornus_florida',\n",
       " 'picea_pungens',\n",
       " 'prunus_yedoensis',\n",
       " 'pinus_echinata',\n",
       " 'quercus_virginiana',\n",
       " 'broussonettia_papyrifera',\n",
       " 'quercus_marilandica',\n",
       " 'castanea_dentata',\n",
       " 'crataegus_crus-galli',\n",
       " 'quercus_alba',\n",
       " 'acer_saccharinum',\n",
       " 'cedrus_libani',\n",
       " 'carpinus_betulus',\n",
       " 'carpinus_caroliniana',\n",
       " 'malus_hupehensis',\n",
       " 'fraxinus_nigra',\n",
       " 'quercus_macrocarpa',\n",
       " 'magnolia_stellata',\n",
       " 'cladrastis_lutea',\n",
       " 'prunus_yedoensis',\n",
       " 'cornus_mas',\n",
       " 'cedrus_deodara',\n",
       " ...]"
      ]
     },
     "execution_count": 30,
     "metadata": {},
     "output_type": "execute_result"
    }
   ],
   "source": [
    "voting_class = []\n",
    "for each in df_mode[0]:\n",
    "  voting_class.append(num_to_class[each])\n",
    "voting_class"
   ]
  },
  {
   "cell_type": "code",
   "execution_count": 31,
   "metadata": {
    "colab": {
     "base_uri": "https://localhost:8080/",
     "height": 204
    },
    "id": "oU7E6R6H_nq4",
    "outputId": "e97e8c8b-21fb-4aee-aa0f-899aab14c476"
   },
   "outputs": [
    {
     "data": {
      "text/html": [
       "<div>\n",
       "<style scoped>\n",
       "    .dataframe tbody tr th:only-of-type {\n",
       "        vertical-align: middle;\n",
       "    }\n",
       "\n",
       "    .dataframe tbody tr th {\n",
       "        vertical-align: top;\n",
       "    }\n",
       "\n",
       "    .dataframe thead th {\n",
       "        text-align: right;\n",
       "    }\n",
       "</style>\n",
       "<table border=\"1\" class=\"dataframe\">\n",
       "  <thead>\n",
       "    <tr style=\"text-align: right;\">\n",
       "      <th></th>\n",
       "      <th>image</th>\n",
       "      <th>num_label0</th>\n",
       "      <th>num_label1</th>\n",
       "      <th>num_label2</th>\n",
       "      <th>num_label3</th>\n",
       "      <th>num_label4</th>\n",
       "      <th>label</th>\n",
       "    </tr>\n",
       "  </thead>\n",
       "  <tbody>\n",
       "    <tr>\n",
       "      <td>0</td>\n",
       "      <td>images/18353.jpg</td>\n",
       "      <td>22</td>\n",
       "      <td>22</td>\n",
       "      <td>22</td>\n",
       "      <td>22</td>\n",
       "      <td>22</td>\n",
       "      <td>asimina_triloba</td>\n",
       "    </tr>\n",
       "    <tr>\n",
       "      <td>1</td>\n",
       "      <td>images/18354.jpg</td>\n",
       "      <td>26</td>\n",
       "      <td>26</td>\n",
       "      <td>121</td>\n",
       "      <td>26</td>\n",
       "      <td>26</td>\n",
       "      <td>betula_nigra</td>\n",
       "    </tr>\n",
       "    <tr>\n",
       "      <td>2</td>\n",
       "      <td>images/18355.jpg</td>\n",
       "      <td>120</td>\n",
       "      <td>120</td>\n",
       "      <td>120</td>\n",
       "      <td>120</td>\n",
       "      <td>120</td>\n",
       "      <td>platanus_acerifolia</td>\n",
       "    </tr>\n",
       "    <tr>\n",
       "      <td>3</td>\n",
       "      <td>images/18356.jpg</td>\n",
       "      <td>102</td>\n",
       "      <td>102</td>\n",
       "      <td>102</td>\n",
       "      <td>102</td>\n",
       "      <td>102</td>\n",
       "      <td>pinus_bungeana</td>\n",
       "    </tr>\n",
       "    <tr>\n",
       "      <td>4</td>\n",
       "      <td>images/18357.jpg</td>\n",
       "      <td>120</td>\n",
       "      <td>120</td>\n",
       "      <td>120</td>\n",
       "      <td>120</td>\n",
       "      <td>120</td>\n",
       "      <td>platanus_acerifolia</td>\n",
       "    </tr>\n",
       "  </tbody>\n",
       "</table>\n",
       "</div>"
      ],
      "text/plain": [
       "              image  num_label0  num_label1  num_label2  num_label3  \\\n",
       "0  images/18353.jpg          22          22          22          22   \n",
       "1  images/18354.jpg          26          26         121          26   \n",
       "2  images/18355.jpg         120         120         120         120   \n",
       "3  images/18356.jpg         102         102         102         102   \n",
       "4  images/18357.jpg         120         120         120         120   \n",
       "\n",
       "   num_label4                label  \n",
       "0          22      asimina_triloba  \n",
       "1          26         betula_nigra  \n",
       "2         120  platanus_acerifolia  \n",
       "3         102       pinus_bungeana  \n",
       "4         120  platanus_acerifolia  "
      ]
     },
     "execution_count": 31,
     "metadata": {},
     "output_type": "execute_result"
    }
   ],
   "source": [
    "df_all['label'] = voting_class\n",
    "df_all.head()"
   ]
  },
  {
   "cell_type": "code",
   "execution_count": 32,
   "metadata": {
    "colab": {
     "base_uri": "https://localhost:8080/",
     "height": 204
    },
    "id": "RBL_QsyY_1go",
    "outputId": "8e70143b-642b-4291-8379-296b0e545960"
   },
   "outputs": [
    {
     "data": {
      "text/html": [
       "<div>\n",
       "<style scoped>\n",
       "    .dataframe tbody tr th:only-of-type {\n",
       "        vertical-align: middle;\n",
       "    }\n",
       "\n",
       "    .dataframe tbody tr th {\n",
       "        vertical-align: top;\n",
       "    }\n",
       "\n",
       "    .dataframe thead th {\n",
       "        text-align: right;\n",
       "    }\n",
       "</style>\n",
       "<table border=\"1\" class=\"dataframe\">\n",
       "  <thead>\n",
       "    <tr style=\"text-align: right;\">\n",
       "      <th></th>\n",
       "      <th>image</th>\n",
       "      <th>label</th>\n",
       "    </tr>\n",
       "  </thead>\n",
       "  <tbody>\n",
       "    <tr>\n",
       "      <td>0</td>\n",
       "      <td>images/18353.jpg</td>\n",
       "      <td>asimina_triloba</td>\n",
       "    </tr>\n",
       "    <tr>\n",
       "      <td>1</td>\n",
       "      <td>images/18354.jpg</td>\n",
       "      <td>betula_nigra</td>\n",
       "    </tr>\n",
       "    <tr>\n",
       "      <td>2</td>\n",
       "      <td>images/18355.jpg</td>\n",
       "      <td>platanus_acerifolia</td>\n",
       "    </tr>\n",
       "    <tr>\n",
       "      <td>3</td>\n",
       "      <td>images/18356.jpg</td>\n",
       "      <td>pinus_bungeana</td>\n",
       "    </tr>\n",
       "    <tr>\n",
       "      <td>4</td>\n",
       "      <td>images/18357.jpg</td>\n",
       "      <td>platanus_acerifolia</td>\n",
       "    </tr>\n",
       "  </tbody>\n",
       "</table>\n",
       "</div>"
      ],
      "text/plain": [
       "              image                label\n",
       "0  images/18353.jpg      asimina_triloba\n",
       "1  images/18354.jpg         betula_nigra\n",
       "2  images/18355.jpg  platanus_acerifolia\n",
       "3  images/18356.jpg       pinus_bungeana\n",
       "4  images/18357.jpg  platanus_acerifolia"
      ]
     },
     "execution_count": 32,
     "metadata": {},
     "output_type": "execute_result"
    }
   ],
   "source": [
    "df_submission = df_all[['image','label']].copy()\n",
    "df_submission.head()"
   ]
  },
  {
   "cell_type": "code",
   "execution_count": 33,
   "metadata": {
    "colab": {
     "base_uri": "https://localhost:8080/"
    },
    "id": "LfhAzq4yAGSI",
    "outputId": "ac469b74-d872-4e0f-fb02-7dfe4b408ac5"
   },
   "outputs": [
    {
     "name": "stdout",
     "output_type": "stream",
     "text": [
      "Final voting results successfully saved!\n"
     ]
    }
   ],
   "source": [
    "df_submission.to_csv('./submission-voting.csv', index=False)\n",
    "print('Final voting results successfully saved!')"
   ]
  },
  {
   "cell_type": "code",
   "execution_count": null,
   "metadata": {
    "id": "pYk1WSkHAr8B"
   },
   "outputs": [],
   "source": []
  }
 ],
 "metadata": {
  "accelerator": "GPU",
  "colab": {
   "collapsed_sections": [],
   "machine_shape": "hm",
   "name": "ResNeXt_based_classify_leaves.ipynb",
   "provenance": []
  },
  "kernelspec": {
   "display_name": "Python 3",
   "language": "python",
   "name": "python3"
  },
  "language_info": {
   "codemirror_mode": {
    "name": "ipython",
    "version": 3
   },
   "file_extension": ".py",
   "mimetype": "text/x-python",
   "name": "python",
   "nbconvert_exporter": "python",
   "pygments_lexer": "ipython3",
   "version": "3.7.4"
  }
 },
 "nbformat": 4,
 "nbformat_minor": 1
}
